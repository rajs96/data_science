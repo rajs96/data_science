{
 "cells": [
  {
   "cell_type": "markdown",
   "metadata": {},
   "source": [
    "- variables hold the values of weights and bias terms throughout the session.\n",
    "- variables need to be initialized.\n",
    "\n",
    "- placeholders are initially empty and are used to feed in the actual training examples.\n",
    "- they do need to be declared with an expected data type (tf.float32) with an optional shape argument."
   ]
  },
  {
   "cell_type": "code",
   "execution_count": 1,
   "metadata": {},
   "outputs": [
    {
     "name": "stderr",
     "output_type": "stream",
     "text": [
      "/Users/rajsingh/anaconda2/lib/python2.7/site-packages/h5py/__init__.py:36: FutureWarning: Conversion of the second argument of issubdtype from `float` to `np.floating` is deprecated. In future, it will be treated as `np.float64 == np.dtype(float).type`.\n",
      "  from ._conv import register_converters as _register_converters\n"
     ]
    }
   ],
   "source": [
    "import tensorflow as tf\n",
    "\n",
    "# fill with random values (uniform dist)\n",
    "myrandu = tf.random_uniform((4,4),maxval=1.0)"
   ]
  },
  {
   "cell_type": "code",
   "execution_count": 2,
   "metadata": {},
   "outputs": [
    {
     "data": {
      "text/plain": [
       "array([[0.49705076, 0.25622058, 0.6423098 , 0.50072014],\n",
       "       [0.7593373 , 0.28045368, 0.84331167, 0.96556234],\n",
       "       [0.6511823 , 0.33592594, 0.61288524, 0.25921333],\n",
       "       [0.3958913 , 0.66423106, 0.72912645, 0.01986063]], dtype=float32)"
      ]
     },
     "execution_count": 2,
     "metadata": {},
     "output_type": "execute_result"
    }
   ],
   "source": [
    "# put it in a variable with initial_value arg\n",
    "var = tf.Variable(initial_value=myrandu)\n",
    "\n",
    "# need to initialize variables\n",
    "init = tf.global_variables_initializer()\n",
    "\n",
    "sess = tf.InteractiveSession()\n",
    "\n",
    "# don't need with because it is\n",
    "# an interactive session\n",
    "\n",
    "# initialize global variables\n",
    "# then run the variable\n",
    "sess.run(init)\n",
    "sess.run(myrandu)"
   ]
  },
  {
   "cell_type": "code",
   "execution_count": 3,
   "metadata": {},
   "outputs": [],
   "source": [
    "# define a placeholder\n",
    "# and specify its type\n",
    "# float32 is usually good enough\n",
    "# for this\n",
    "placeholder = tf.placeholder(tf.float32,shape=(None,5))\n",
    "# None is usually meant to specify that we don't\n",
    "# know how many data points we will have going\n",
    "# in because they may be in batches"
   ]
  },
  {
   "cell_type": "code",
   "execution_count": null,
   "metadata": {},
   "outputs": [],
   "source": []
  }
 ],
 "metadata": {
  "kernelspec": {
   "display_name": "Python 2",
   "language": "python",
   "name": "python2"
  },
  "language_info": {
   "codemirror_mode": {
    "name": "ipython",
    "version": 2
   },
   "file_extension": ".py",
   "mimetype": "text/x-python",
   "name": "python",
   "nbconvert_exporter": "python",
   "pygments_lexer": "ipython2",
   "version": "2.7.15"
  }
 },
 "nbformat": 4,
 "nbformat_minor": 2
}
