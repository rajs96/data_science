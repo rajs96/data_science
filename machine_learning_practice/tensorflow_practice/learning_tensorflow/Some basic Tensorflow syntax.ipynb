{
 "cells": [
  {
   "cell_type": "code",
   "execution_count": 1,
   "metadata": {},
   "outputs": [
    {
     "name": "stderr",
     "output_type": "stream",
     "text": [
      "/Users/rajsingh/anaconda2/lib/python2.7/site-packages/h5py/__init__.py:36: FutureWarning: Conversion of the second argument of issubdtype from `float` to `np.floating` is deprecated. In future, it will be treated as `np.float64 == np.dtype(float).type`.\n",
      "  from ._conv import register_converters as _register_converters\n"
     ]
    }
   ],
   "source": [
    "# import tensorflow\n",
    "import tensorflow as tf"
   ]
  },
  {
   "cell_type": "code",
   "execution_count": 3,
   "metadata": {},
   "outputs": [
    {
     "name": "stdout",
     "output_type": "stream",
     "text": [
      "HelloWorld\n"
     ]
    }
   ],
   "source": [
    "# create tensors\n",
    "hello = tf.constant(\"Hello\")\n",
    "world = tf.constant(\"World\")\n",
    "\n",
    "# need to start a session in order to use tensorflow\n",
    "# using the 'with' keyword makes it so we don't need\n",
    "# to close the session ourself\n",
    "with tf.Session() as sess:\n",
    "    result = sess.run(hello+world)\n",
    "print(result)"
   ]
  },
  {
   "cell_type": "code",
   "execution_count": 5,
   "metadata": {},
   "outputs": [],
   "source": [
    "# can also fill tensor with values\n",
    "# as with numpy\n",
    "fill_mat = tf.fill((4,4),16)"
   ]
  },
  {
   "cell_type": "code",
   "execution_count": 6,
   "metadata": {},
   "outputs": [],
   "source": [
    "# fill with zeros\n",
    "myzeroes = tf.zeros((4,4))"
   ]
  },
  {
   "cell_type": "code",
   "execution_count": 7,
   "metadata": {},
   "outputs": [],
   "source": [
    "# fill with random values (normal dist)\n",
    "myrandn = tf.random_normal((4,4))\n",
    "\n",
    "# fill with random values (uniform dist)\n",
    "myrandu = tf.random_uniform((4,4),maxval=1.0)"
   ]
  },
  {
   "cell_type": "code",
   "execution_count": 9,
   "metadata": {},
   "outputs": [],
   "source": [
    "# make list of operations so we can use them\n",
    "my_operations = [fill_mat,myzeroes,myrandn,myrandu]"
   ]
  },
  {
   "cell_type": "code",
   "execution_count": 10,
   "metadata": {},
   "outputs": [
    {
     "name": "stdout",
     "output_type": "stream",
     "text": [
      "[[16 16 16 16]\n",
      " [16 16 16 16]\n",
      " [16 16 16 16]\n",
      " [16 16 16 16]]\n",
      "\n",
      "\n",
      "[[0. 0. 0. 0.]\n",
      " [0. 0. 0. 0.]\n",
      " [0. 0. 0. 0.]\n",
      " [0. 0. 0. 0.]]\n",
      "\n",
      "\n",
      "[[-0.01546793  0.9236789   1.6658556  -1.1414561 ]\n",
      " [ 0.2680923   1.6192477  -1.0187005  -0.6476716 ]\n",
      " [-0.6823614   0.83595747 -0.46629617 -0.29216915]\n",
      " [ 1.9651921  -0.41016597 -0.01930806 -1.967744  ]]\n",
      "\n",
      "\n",
      "[[0.6019888  0.9707557  0.45937216 0.905669  ]\n",
      " [0.17182505 0.19396293 0.43696332 0.08529413]\n",
      " [0.38552594 0.47631097 0.58429575 0.42248762]\n",
      " [0.44977534 0.31454444 0.31966293 0.9460387 ]]\n",
      "\n",
      "\n"
     ]
    }
   ],
   "source": [
    "# can run an interactive session as well\n",
    "# allows us to do this outside a typical\n",
    "# tensorflow session\n",
    "# typically don't do this though\n",
    "interactive_sess = tf.InteractiveSession()\n",
    "\n",
    "# let's actually perform these operations\n",
    "# and see the tensors that we create\n",
    "for operation in my_operations:\n",
    "    print(interactive_sess.run(operation))\n",
    "    print(\"\\n\")"
   ]
  },
  {
   "cell_type": "code",
   "execution_count": null,
   "metadata": {},
   "outputs": [],
   "source": []
  }
 ],
 "metadata": {
  "kernelspec": {
   "display_name": "Python 2",
   "language": "python",
   "name": "python2"
  },
  "language_info": {
   "codemirror_mode": {
    "name": "ipython",
    "version": 2
   },
   "file_extension": ".py",
   "mimetype": "text/x-python",
   "name": "python",
   "nbconvert_exporter": "python",
   "pygments_lexer": "ipython2",
   "version": "2.7.15"
  }
 },
 "nbformat": 4,
 "nbformat_minor": 2
}
