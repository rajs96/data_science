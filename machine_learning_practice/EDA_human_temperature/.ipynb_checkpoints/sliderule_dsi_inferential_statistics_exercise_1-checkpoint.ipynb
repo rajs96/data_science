{
 "cells": [
  {
   "cell_type": "markdown",
   "metadata": {},
   "source": [
    "# What is the True Normal Human Body Temperature? \n",
    "\n",
    "#### Background\n",
    "\n",
    "The mean normal body temperature was held to be 37$^{\\circ}$C or 98.6$^{\\circ}$F for more than 120 years since it was first conceptualized and reported by Carl Wunderlich in a famous 1868 book. But, is this value statistically correct?"
   ]
  },
  {
   "cell_type": "markdown",
   "metadata": {},
   "source": [
    "<h3>Exercises</h3>\n",
    "\n",
    "<p>In this exercise, you will analyze a dataset of human body temperatures and employ the concepts of hypothesis testing, confidence intervals, and statistical significance.</p>\n",
    "\n",
    "<p>Answer the following questions <b>in this notebook below and submit to your Github account</b>.</p> \n",
    "\n",
    "<ol>\n",
    "<li>  Is the distribution of body temperatures normal? \n",
    "    <ul>\n",
    "    <li> Although this is not a requirement for the Central Limit Theorem to hold (read the introduction on Wikipedia's page about the CLT carefully: https://en.wikipedia.org/wiki/Central_limit_theorem), it gives us some peace of mind that the population may also be normally distributed if we assume that this sample is representative of the population.\n",
    "    <li> Think about the way you're going to check for the normality of the distribution. Graphical methods are usually used first, but there are also other ways: https://en.wikipedia.org/wiki/Normality_test\n",
    "    </ul>\n",
    "<li>  Is the sample size large? Are the observations independent?\n",
    "    <ul>\n",
    "    <li> Remember that this is a condition for the Central Limit Theorem, and hence the statistical tests we are using, to apply.\n",
    "    </ul>\n",
    "<li>  Is the true population mean really 98.6 degrees F?\n",
    "    <ul>\n",
    "    <li> First, try a bootstrap hypothesis test.\n",
    "    <li> Now, let's try frequentist statistical testing. Would you use a one-sample or two-sample test? Why?\n",
    "    <li> In this situation, is it appropriate to use the $t$ or $z$ statistic? \n",
    "    <li> Now try using the other test. How is the result be different? Why?\n",
    "    </ul>\n",
    "<li>  Draw a small sample of size 10 from the data and repeat both frequentist tests. \n",
    "    <ul>\n",
    "    <li> Which one is the correct one to use? \n",
    "    <li> What do you notice? What does this tell you about the difference in application of the $t$ and $z$ statistic?\n",
    "    </ul>\n",
    "<li>  At what temperature should we consider someone's temperature to be \"abnormal\"?\n",
    "    <ul>\n",
    "    <li> As in the previous example, try calculating everything using the boostrap approach, as well as the frequentist approach.\n",
    "    <li> Start by computing the margin of error and confidence interval. When calculating the confidence interval, keep in mind that you should use the appropriate formula for one draw, and not N draws.\n",
    "    </ul>\n",
    "<li>  Is there a significant difference between males and females in normal temperature?\n",
    "    <ul>\n",
    "    <li> What testing approach did you use and why?\n",
    "    <li> Write a story with your conclusion in the context of the original problem.\n",
    "    </ul>\n",
    "</ol>\n",
    "\n",
    "You can include written notes in notebook cells using Markdown: \n",
    "   - In the control panel at the top, choose Cell > Cell Type > Markdown\n",
    "   - Markdown syntax: http://nestacms.com/docs/creating-content/markdown-cheat-sheet\n",
    "\n",
    "#### Resources\n",
    "\n",
    "+ Information and data sources: http://www.amstat.org/publications/jse/datasets/normtemp.txt, http://www.amstat.org/publications/jse/jse_data_archive.htm\n",
    "+ Markdown syntax: http://nestacms.com/docs/creating-content/markdown-cheat-sheet\n",
    "\n",
    "****"
   ]
  },
  {
   "cell_type": "code",
   "execution_count": 1,
   "metadata": {
    "collapsed": true
   },
   "outputs": [],
   "source": [
    "import pandas as pd\n",
    "\n",
    "df = pd.read_csv('data/human_body_temperature.csv')"
   ]
  },
  {
   "cell_type": "markdown",
   "metadata": {
    "collapsed": true
   },
   "source": [
    "Inspecting the dataset to see what it looks like:"
   ]
  },
  {
   "cell_type": "code",
   "execution_count": 2,
   "metadata": {},
   "outputs": [
    {
     "data": {
      "text/html": [
       "<div>\n",
       "<style scoped>\n",
       "    .dataframe tbody tr th:only-of-type {\n",
       "        vertical-align: middle;\n",
       "    }\n",
       "\n",
       "    .dataframe tbody tr th {\n",
       "        vertical-align: top;\n",
       "    }\n",
       "\n",
       "    .dataframe thead th {\n",
       "        text-align: right;\n",
       "    }\n",
       "</style>\n",
       "<table border=\"1\" class=\"dataframe\">\n",
       "  <thead>\n",
       "    <tr style=\"text-align: right;\">\n",
       "      <th></th>\n",
       "      <th>temperature</th>\n",
       "      <th>gender</th>\n",
       "      <th>heart_rate</th>\n",
       "    </tr>\n",
       "  </thead>\n",
       "  <tbody>\n",
       "    <tr>\n",
       "      <th>0</th>\n",
       "      <td>99.3</td>\n",
       "      <td>F</td>\n",
       "      <td>68.0</td>\n",
       "    </tr>\n",
       "    <tr>\n",
       "      <th>1</th>\n",
       "      <td>98.4</td>\n",
       "      <td>F</td>\n",
       "      <td>81.0</td>\n",
       "    </tr>\n",
       "    <tr>\n",
       "      <th>2</th>\n",
       "      <td>97.8</td>\n",
       "      <td>M</td>\n",
       "      <td>73.0</td>\n",
       "    </tr>\n",
       "    <tr>\n",
       "      <th>3</th>\n",
       "      <td>99.2</td>\n",
       "      <td>F</td>\n",
       "      <td>66.0</td>\n",
       "    </tr>\n",
       "    <tr>\n",
       "      <th>4</th>\n",
       "      <td>98.0</td>\n",
       "      <td>F</td>\n",
       "      <td>73.0</td>\n",
       "    </tr>\n",
       "  </tbody>\n",
       "</table>\n",
       "</div>"
      ],
      "text/plain": [
       "   temperature gender  heart_rate\n",
       "0         99.3      F        68.0\n",
       "1         98.4      F        81.0\n",
       "2         97.8      M        73.0\n",
       "3         99.2      F        66.0\n",
       "4         98.0      F        73.0"
      ]
     },
     "execution_count": 2,
     "metadata": {},
     "output_type": "execute_result"
    }
   ],
   "source": [
    "df.head()"
   ]
  },
  {
   "cell_type": "markdown",
   "metadata": {},
   "source": [
    "Let's test normality by graphing the temperatures on a histogram."
   ]
  },
  {
   "cell_type": "code",
   "execution_count": 6,
   "metadata": {},
   "outputs": [
    {
     "data": {
      "image/png": "[encoded data removed]",
      "text/plain": [
       "<matplotlib.figure.Figure at 0x10a42aed0>"
      ]
     },
     "metadata": {},
     "output_type": "display_data"
    }
   ],
   "source": [
    "import matplotlib.pyplot as plt\n",
    "plt.hist(x=df.temperature,bins=30)\n",
    "plt.xlabel('human body temperature')\n",
    "plt.ylabel('# of individuals')\n",
    "plt.show()"
   ]
  },
  {
   "cell_type": "markdown",
   "metadata": {},
   "source": [
    "As we can see from the histogram, the distribution is approximately normal."
   ]
  },
  {
   "cell_type": "code",
   "execution_count": 7,
   "metadata": {},
   "outputs": [
    {
     "name": "stdout",
     "output_type": "stream",
     "text": [
      "<class 'pandas.core.frame.DataFrame'>\n",
      "RangeIndex: 130 entries, 0 to 129\n",
      "Data columns (total 3 columns):\n",
      "temperature    130 non-null float64\n",
      "gender         130 non-null object\n",
      "heart_rate     130 non-null float64\n",
      "dtypes: float64(2), object(1)\n",
      "memory usage: 3.1+ KB\n"
     ]
    }
   ],
   "source": [
    "df.info()"
   ]
  },
  {
   "cell_type": "markdown",
   "metadata": {},
   "source": [
    "As we can see, the sample size is 130, which is adequately large. The observations are also independent according to the 10% rule, because 130 is certainly less than 10% of the population of individuals."
   ]
  },
  {
   "cell_type": "markdown",
   "metadata": {},
   "source": [
    "- Null hypothesis: The mean normal body temperature is 98.6 degrees (fahrenheit)\n",
    "- Alternate hypothesis: The mean normal body temperature is not 98.6 degrees (fahrenheit)\n",
    "- Let's do a bootstrap test and measure the p-value. That is, let's measure the probability of obtaining mean body temperatures that were at least as extreme as the mean of the sample, assuming the mean normal body temperature is 98.6 degrees.\n",
    "- First let's define some functions that will allow us to make bootstrap replicates:"
   ]
  },
  {
   "cell_type": "code",
   "execution_count": 11,
   "metadata": {
    "collapsed": true
   },
   "outputs": [],
   "source": [
    "import numpy as np\n",
    "def bootstrap_replicate_1d(data, func):\n",
    "    \"\"\"Generate bootstrap replicate of 1D data.\"\"\"\n",
    "    bs_sample = np.random.choice(data, len(data))\n",
    "    return func(bs_sample)\n",
    "\n",
    "def draw_bs_reps(data, func, size=1):\n",
    "    \"\"\"Draw bootstrap replicates.\"\"\"\n",
    "\n",
    "    # Initialize array of replicates: bs_replicates\n",
    "    bs_replicates = np.empty(size)\n",
    "\n",
    "    # Generate replicates\n",
    "    for i in range(size):\n",
    "        bs_replicates[i] = bootstrap_replicate_1d(data,func)\n",
    "\n",
    "    return bs_replicates"
   ]
  },
  {
   "cell_type": "markdown",
   "metadata": {},
   "source": [
    "Now, we need to make some boostrap replicates ASSUMING the population mean is 98.6:"
   ]
  },
  {
   "cell_type": "code",
   "execution_count": 79,
   "metadata": {},
   "outputs": [
    {
     "name": "stdout",
     "output_type": "stream",
     "text": [
      "The p-value is 0.0\n"
     ]
    }
   ],
   "source": [
    "translated_temperature = df.temperature - np.mean(df.temperature) + 98.6\n",
    "bs_replicates = draw_bs_reps(translated_temperature,np.mean,100000)\n",
    "# calculate p-value\n",
    "p = np.sum(bs_replicates<=np.mean(df.temperature))/100000.\n",
    "print(\"The p-value is \" + `p`)"
   ]
  },
  {
   "cell_type": "markdown",
   "metadata": {},
   "source": [
    "Now, let's do a statistical hypothesis test using a one-sample z-test. We use a one-sample test because we are not comparing the difference between two samples. Rather we are using one sample to test the hypothesis that the mean is a purported value. Let's use a z-test because although we don't know the population standard deviation, we can use the sample standard deviation because the distribution is approximately normal and we have a large sample size. Because this is a random sample, the data is normally distributed, and it is an independent observation (10% rule), we can use this test."
   ]
  },
  {
   "cell_type": "code",
   "execution_count": 101,
   "metadata": {},
   "outputs": [
    {
     "name": "stdout",
     "output_type": "stream",
     "text": [
      "Using the z-test, the p-value is: 2.1761575829410943e-08\n",
      "Using the t-test, the p-value is: 2.4106320415561276e-07\n"
     ]
    }
   ],
   "source": [
    "# compute z-statistic\n",
    "difference = np.mean(df.temperature) - 98.6\n",
    "standard_error = np.std(df.temperature)/np.sqrt(len(df.temperature))\n",
    "z = difference / standard_error\n",
    "# import scipy to find p-value\n",
    "import scipy.stats as st\n",
    "p_value_z = st.norm.cdf(z)\n",
    "print('Using the z-test, the p-value is: ' + `p_value_z`)\n",
    "\n",
    "# now use t-test\n",
    "t,p_value_t = st.ttest_1samp(df.temperature,98.6)\n",
    "print('Using the t-test, the p-value is: ' + `p_value_t`) # two-sided test"
   ]
  },
  {
   "cell_type": "markdown",
   "metadata": {},
   "source": [
    "The result is not much different, although the p-value for the t-statistic is slighly higher because the t-distribution has a greater error, and so the distribution is more spread out and will have greater areas under the curve at cutoffs near the tails of the curve."
   ]
  },
  {
   "cell_type": "markdown",
   "metadata": {},
   "source": [
    "Now, we will take a random sample of size 10 from the df and repeat the tests."
   ]
  },
  {
   "cell_type": "code",
   "execution_count": 105,
   "metadata": {},
   "outputs": [
    {
     "name": "stdout",
     "output_type": "stream",
     "text": [
      "Using the z-test, the p-value is: 0.018198805001834743\n",
      "Using the t-test, the p-value is: 0.078415639092074302\n"
     ]
    }
   ],
   "source": [
    "sample_temps = np.random.choice(df.temperature,10,replace=False) # don't want to replace\n",
    "\n",
    "# z-test \n",
    "difference = np.mean(sample_temps) - 98.6\n",
    "standard_error = np.std(sample_temps)/np.sqrt(len(sample_temps))\n",
    "z = difference / standard_error\n",
    "p_value_z = st.norm.cdf(z)\n",
    "print('Using the z-test, the p-value is: ' + `p_value_z`)\n",
    "\n",
    "# t test\n",
    "t,p_value_t = st.ttest_1samp(sample_temps,98.6)\n",
    "print('Using the t-test, the p-value is: ' + `p_value_t`) # two-sided test"
   ]
  },
  {
   "cell_type": "markdown",
   "metadata": {},
   "source": [
    "It would be more correct to use the t test because we are dealing with a sample size of 10. Thus, the standard error is higher and we are dealing with a more spread out normal distribution, one that is better approximated by the t distribution. We notice that when we use the t-distribution, we get a higher p-value because we are using a distribution with more standard error about the mean, thus it is makes it more plausible to get values that are farther from the mean. This tells us that when we use smaller sample sizes, since we will have a larger standard error, it is indeed more appropriate to use the t-distribution."
   ]
  },
  {
   "cell_type": "markdown",
   "metadata": {},
   "source": [
    "Now, we will generate confidence intervals using the bootstrap approach, as well as the frequentist approach. We start with the bootstrap approach. Let's use a 95% confidence interval (in other words, alpha = 0.05)."
   ]
  },
  {
   "cell_type": "code",
   "execution_count": 87,
   "metadata": {},
   "outputs": [
    {
     "name": "stdout",
     "output_type": "stream",
     "text": [
      "confidence interval with bootstrap approach: array([ 98.12384615,  98.37538462])\n",
      "margin of error with bootstrap approach: 0.12576923076923663\n",
      "confidence interval with frequentist approach (98.123682111456645, 98.37477942700491)\n",
      "margin of error with frequentist approach: 0.12554865777413815\n"
     ]
    }
   ],
   "source": [
    "# bootstrap approach\n",
    "bs_replicates = draw_bs_reps(df.temperature,np.mean,100000)\n",
    "conf_int = np.percentile(bs_replicates,[2.5,97.5])\n",
    "print ('confidence interval with bootstrap approach: ' + `conf_int`)\n",
    "margin_of_error = (conf_int[1]-conf_int[0])/2. # upper tail is one margin above and lower tail is one margin below\n",
    "print('margin of error with bootstrap approach: ' + `margin_of_error`)\n",
    "\n",
    "# frequentist approach\n",
    "# margin of error = z-statistic * standard deviation\n",
    "margin_of_error = st.norm.ppf(.975) * (np.std(df.temperature)/np.sqrt(len(df.temperature)))\n",
    "print(\"confidence interval with frequentist approach \" + `(np.mean(df.temperature)-margin_of_error,np.mean(df.temperature)+margin_of_error)`)\n",
    "print(\"margin of error with frequentist approach: \" + `margin_of_error`)"
   ]
  },
  {
   "cell_type": "markdown",
   "metadata": {
    "collapsed": true
   },
   "source": [
    "Now, we will use frequentist hypothesis testing to test the hypothesis that there is a significant difference between males and females."
   ]
  },
  {
   "cell_type": "markdown",
   "metadata": {},
   "source": [
    "First, we split up the male and female temperatures:"
   ]
  },
  {
   "cell_type": "code",
   "execution_count": 92,
   "metadata": {},
   "outputs": [],
   "source": [
    "male_temperatures = df[df.gender=='M']['temperature']\n",
    "\n",
    "female_temperatures = df[df.gender=='F']['temperature']"
   ]
  },
  {
   "cell_type": "markdown",
   "metadata": {},
   "source": [
    "Let's visualize both distributions to check if they are both approximately normal."
   ]
  },
  {
   "cell_type": "code",
   "execution_count": 99,
   "metadata": {},
   "outputs": [
    {
     "data": {
      "image/png": "[encoded data removed]",
      "text/plain": [
       "<matplotlib.figure.Figure at 0x1a0e477810>"
      ]
     },
     "metadata": {},
     "output_type": "display_data"
    }
   ],
   "source": [
    "fig, axes = plt.subplots(1,2,figsize=(14,8))\n",
    "axes[0].hist(x=male_temperatures, bins=30)\n",
    "axes[0].set_xlabel('male body temperature')\n",
    "axes[0].set_ylabel('frequency')\n",
    "axes[1].hist(x=female_temperatures, bins=30)\n",
    "axes[1].set_xlabel('female body temperature')\n",
    "axes[1].set_ylabel('frequency')\n",
    "plt.show()"
   ]
  },
  {
   "cell_type": "markdown",
   "metadata": {},
   "source": [
    "As shown by the visualizations, both distributions are approximately normal. Since both sample sizes (65) are sufficiently large, the samples are random, and body temperatures are independent across individuals, we can use a two-sample z-test.\n",
    "- Null hypothesis: There is no difference between the mean body temperatures of males and females.\n",
    "- Alternate hypothesis: There is a difference (nonzero) between the body temperatures of males and females."
   ]
  },
  {
   "cell_type": "code",
   "execution_count": 108,
   "metadata": {},
   "outputs": [
    {
     "name": "stdout",
     "output_type": "stream",
     "text": [
      "the p-value of the z-test is 0.24620075644860495\n"
     ]
    }
   ],
   "source": [
    "male_female_difference = np.mean(male_temperatures) - np.mean(female_temperatures)\n",
    "male_SE = np.std(male_temperatures)/np.sqrt(len(male_temperatures))\n",
    "female_SE = np.std(female_temperatures)/np.sqrt(len(female_temperatures))\n",
    "combined_SE = np.sqrt(male_SE + female_SE)\n",
    "z_statistic = male_female_difference/combined_SE\n",
    "p_value = st.norm.cdf(z_statistic)\n",
    "print('the p-value of the z-test is ' + `p_value`)"
   ]
  },
  {
   "cell_type": "markdown",
   "metadata": {},
   "source": [
    "We are doing a two-sided z-test at alpha=0.05, so we would reject the null hypothesis at p < 0.025 or p > .975. Since neither is the case, we fail to reject the null hypothesis. There is not sufficient evidence to conclude that the mean normal body temperatures of males and females differ significantly."
   ]
  },
  {
   "cell_type": "code",
   "execution_count": null,
   "metadata": {
    "collapsed": true
   },
   "outputs": [],
   "source": []
  }
 ],
 "metadata": {
  "kernelspec": {
   "display_name": "Python 2",
   "language": "python",
   "name": "python2"
  },
  "language_info": {
   "codemirror_mode": {
    "name": "ipython",
    "version": 2
   },
   "file_extension": ".py",
   "mimetype": "text/x-python",
   "name": "python",
   "nbconvert_exporter": "python",
   "pygments_lexer": "ipython2",
   "version": "2.7.14"
  }
 },
 "nbformat": 4,
 "nbformat_minor": 1
}
