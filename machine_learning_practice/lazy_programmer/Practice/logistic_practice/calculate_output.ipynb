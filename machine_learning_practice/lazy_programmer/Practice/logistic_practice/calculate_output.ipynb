{
 "cells": [
  {
   "cell_type": "code",
   "execution_count": 1,
   "metadata": {
    "collapsed": true
   },
   "outputs": [],
   "source": [
    "import numpy as np"
   ]
  },
  {
   "cell_type": "code",
   "execution_count": 3,
   "metadata": {},
   "outputs": [],
   "source": [
    "N = 100\n",
    "D = 2 \n",
    "# generate random numbers with this dimensionality\n",
    "X = np.random.randn(N,D)"
   ]
  },
  {
   "cell_type": "code",
   "execution_count": 6,
   "metadata": {},
   "outputs": [],
   "source": [
    "# concatenate 1's array with random array\n",
    "ones = np.array([[1] * N]).T\n",
    "Xb = np.concatenate((ones,X),axis=1)"
   ]
  },
  {
   "cell_type": "code",
   "execution_count": 7,
   "metadata": {
    "collapsed": true
   },
   "outputs": [],
   "source": [
    "# assign random weights\n",
    "w = np.random.randn(D+1)\n",
    "# output\n",
    "z = Xb.dot(w)"
   ]
  },
  {
   "cell_type": "code",
   "execution_count": 8,
   "metadata": {
    "collapsed": true
   },
   "outputs": [],
   "source": [
    "def sigmoid(z):\n",
    "    return 1/(1 + np.exp(-z))"
   ]
  },
  {
   "cell_type": "code",
   "execution_count": 9,
   "metadata": {},
   "outputs": [
    {
     "name": "stdout",
     "output_type": "stream",
     "text": [
      "[ 0.22508332  0.09864107  0.40355596  0.10822164  0.03330064  0.10309002\n",
      "  0.22922524  0.71901437  0.3224016   0.61207686  0.14959421  0.25630085\n",
      "  0.49505614  0.36156709  0.80360753  0.43236811  0.14482238  0.52486836\n",
      "  0.40442477  0.31632823  0.47084328  0.47080202  0.27208664  0.29482963\n",
      "  0.26678371  0.03941852  0.22213345  0.08053847  0.21036528  0.41999039\n",
      "  0.19793008  0.33317758  0.76939742  0.33941275  0.7222571   0.4586124\n",
      "  0.2581619   0.62252558  0.09074717  0.26186218  0.08979335  0.09570178\n",
      "  0.15051861  0.2043914   0.75615802  0.33473631  0.28346687  0.34931014\n",
      "  0.16860641  0.61158721  0.79634649  0.57365038  0.38323496  0.44674309\n",
      "  0.27226134  0.32997862  0.43522854  0.3237758   0.52419384  0.64558364\n",
      "  0.57634115  0.22157035  0.26998711  0.24856119  0.17397372  0.43975744\n",
      "  0.19823118  0.15485213  0.6050635   0.19197629  0.44546157  0.5099327\n",
      "  0.6938271   0.66187182  0.79117188  0.27843512  0.1172414   0.28345803\n",
      "  0.2271305   0.05768976  0.34149919  0.46392312  0.35303756  0.10822423\n",
      "  0.0710316   0.5063896   0.05108451  0.28467117  0.36989825  0.23119429\n",
      "  0.18641563  0.62371974  0.37715947  0.2387157   0.48687177  0.28016164\n",
      "  0.58633001  0.20362418  0.54092981  0.04236179]\n"
     ]
    }
   ],
   "source": [
    "# all values will be between 0 and 1\n",
    "print sigmoid(z)"
   ]
  },
  {
   "cell_type": "code",
   "execution_count": null,
   "metadata": {
    "collapsed": true
   },
   "outputs": [],
   "source": []
  }
 ],
 "metadata": {
  "kernelspec": {
   "display_name": "Python 2",
   "language": "python",
   "name": "python2"
  },
  "language_info": {
   "codemirror_mode": {
    "name": "ipython",
    "version": 2
   },
   "file_extension": ".py",
   "mimetype": "text/x-python",
   "name": "python",
   "nbconvert_exporter": "python",
   "pygments_lexer": "ipython2",
   "version": "2.7.14"
  }
 },
 "nbformat": 4,
 "nbformat_minor": 2
}
