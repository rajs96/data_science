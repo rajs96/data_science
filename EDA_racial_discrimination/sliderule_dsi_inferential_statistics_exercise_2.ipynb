{
 "cells": [
  {
   "cell_type": "markdown",
   "metadata": {},
   "source": [
    "# Examining Racial Discrimination in the US Job Market\n",
    "\n",
    "### Background\n",
    "Racial discrimination continues to be pervasive in cultures throughout the world. Researchers examined the level of racial discrimination in the United States labor market by randomly assigning identical résumés to black-sounding or white-sounding names and observing the impact on requests for interviews from employers.\n",
    "\n",
    "### Data\n",
    "In the dataset provided, each row represents a resume. The 'race' column has two values, 'b' and 'w', indicating black-sounding and white-sounding. The column 'call' has two values, 1 and 0, indicating whether the resume received a call from employers or not.\n",
    "\n",
    "Note that the 'b' and 'w' values in race are assigned randomly to the resumes when presented to the employer."
   ]
  },
  {
   "cell_type": "markdown",
   "metadata": {},
   "source": [
    "<div class=\"span5 alert alert-info\">\n",
    "### Exercises\n",
    "You will perform a statistical analysis to establish whether race has a significant impact on the rate of callbacks for resumes.\n",
    "\n",
    "Answer the following questions **in this notebook below and submit to your Github account**. \n",
    "\n",
    "   1. What test is appropriate for this problem? Does CLT apply?\n",
    "   2. What are the null and alternate hypotheses?\n",
    "   3. Compute margin of error, confidence interval, and p-value. Try using both the bootstrapping and the frequentist statistical approaches.\n",
    "   4. Write a story describing the statistical significance in the context or the original problem.\n",
    "   5. Does your analysis mean that race/name is the most important factor in callback success? Why or why not? If not, how would you amend your analysis?\n",
    "\n",
    "You can include written notes in notebook cells using Markdown: \n",
    "   - In the control panel at the top, choose Cell > Cell Type > Markdown\n",
    "   - Markdown syntax: http://nestacms.com/docs/creating-content/markdown-cheat-sheet\n",
    "\n",
    "\n",
    "#### Resources\n",
    "+ Experiment information and data source: http://www.povertyactionlab.org/evaluation/discrimination-job-market-united-states\n",
    "+ Scipy statistical methods: http://docs.scipy.org/doc/scipy/reference/stats.html \n",
    "+ Markdown syntax: http://nestacms.com/docs/creating-content/markdown-cheat-sheet\n",
    "+ Formulas for the Bernoulli distribution: https://en.wikipedia.org/wiki/Bernoulli_distribution\n",
    "</div>\n",
    "****"
   ]
  },
  {
   "cell_type": "code",
   "execution_count": 1,
   "metadata": {
    "collapsed": true
   },
   "outputs": [],
   "source": [
    "import pandas as pd\n",
    "import numpy as np\n",
    "from scipy import stats"
   ]
  },
  {
   "cell_type": "code",
   "execution_count": 2,
   "metadata": {
    "collapsed": true
   },
   "outputs": [],
   "source": [
    "data = pd.io.stata.read_stata('data/us_job_market_discrimination.dta')"
   ]
  },
  {
   "cell_type": "code",
   "execution_count": 3,
   "metadata": {},
   "outputs": [
    {
     "data": {
      "text/plain": [
       "235.0"
      ]
     },
     "execution_count": 3,
     "metadata": {},
     "output_type": "execute_result"
    }
   ],
   "source": [
    "# number of callbacks for black-sounding names\n",
    "sum(data[data.race=='w'].call)"
   ]
  },
  {
   "cell_type": "code",
   "execution_count": 4,
   "metadata": {},
   "outputs": [
    {
     "data": {
      "text/html": [
       "<div>\n",
       "<style scoped>\n",
       "    .dataframe tbody tr th:only-of-type {\n",
       "        vertical-align: middle;\n",
       "    }\n",
       "\n",
       "    .dataframe tbody tr th {\n",
       "        vertical-align: top;\n",
       "    }\n",
       "\n",
       "    .dataframe thead th {\n",
       "        text-align: right;\n",
       "    }\n",
       "</style>\n",
       "<table border=\"1\" class=\"dataframe\">\n",
       "  <thead>\n",
       "    <tr style=\"text-align: right;\">\n",
       "      <th></th>\n",
       "      <th>id</th>\n",
       "      <th>ad</th>\n",
       "      <th>education</th>\n",
       "      <th>ofjobs</th>\n",
       "      <th>yearsexp</th>\n",
       "      <th>honors</th>\n",
       "      <th>volunteer</th>\n",
       "      <th>military</th>\n",
       "      <th>empholes</th>\n",
       "      <th>occupspecific</th>\n",
       "      <th>...</th>\n",
       "      <th>compreq</th>\n",
       "      <th>orgreq</th>\n",
       "      <th>manuf</th>\n",
       "      <th>transcom</th>\n",
       "      <th>bankreal</th>\n",
       "      <th>trade</th>\n",
       "      <th>busservice</th>\n",
       "      <th>othservice</th>\n",
       "      <th>missind</th>\n",
       "      <th>ownership</th>\n",
       "    </tr>\n",
       "  </thead>\n",
       "  <tbody>\n",
       "    <tr>\n",
       "      <th>0</th>\n",
       "      <td>b</td>\n",
       "      <td>1</td>\n",
       "      <td>4</td>\n",
       "      <td>2</td>\n",
       "      <td>6</td>\n",
       "      <td>0</td>\n",
       "      <td>0</td>\n",
       "      <td>0</td>\n",
       "      <td>1</td>\n",
       "      <td>17</td>\n",
       "      <td>...</td>\n",
       "      <td>1.0</td>\n",
       "      <td>0.0</td>\n",
       "      <td>1.0</td>\n",
       "      <td>0.0</td>\n",
       "      <td>0.0</td>\n",
       "      <td>0.0</td>\n",
       "      <td>0.0</td>\n",
       "      <td>0.0</td>\n",
       "      <td>0.0</td>\n",
       "      <td></td>\n",
       "    </tr>\n",
       "    <tr>\n",
       "      <th>1</th>\n",
       "      <td>b</td>\n",
       "      <td>1</td>\n",
       "      <td>3</td>\n",
       "      <td>3</td>\n",
       "      <td>6</td>\n",
       "      <td>0</td>\n",
       "      <td>1</td>\n",
       "      <td>1</td>\n",
       "      <td>0</td>\n",
       "      <td>316</td>\n",
       "      <td>...</td>\n",
       "      <td>1.0</td>\n",
       "      <td>0.0</td>\n",
       "      <td>1.0</td>\n",
       "      <td>0.0</td>\n",
       "      <td>0.0</td>\n",
       "      <td>0.0</td>\n",
       "      <td>0.0</td>\n",
       "      <td>0.0</td>\n",
       "      <td>0.0</td>\n",
       "      <td></td>\n",
       "    </tr>\n",
       "    <tr>\n",
       "      <th>2</th>\n",
       "      <td>b</td>\n",
       "      <td>1</td>\n",
       "      <td>4</td>\n",
       "      <td>1</td>\n",
       "      <td>6</td>\n",
       "      <td>0</td>\n",
       "      <td>0</td>\n",
       "      <td>0</td>\n",
       "      <td>0</td>\n",
       "      <td>19</td>\n",
       "      <td>...</td>\n",
       "      <td>1.0</td>\n",
       "      <td>0.0</td>\n",
       "      <td>1.0</td>\n",
       "      <td>0.0</td>\n",
       "      <td>0.0</td>\n",
       "      <td>0.0</td>\n",
       "      <td>0.0</td>\n",
       "      <td>0.0</td>\n",
       "      <td>0.0</td>\n",
       "      <td></td>\n",
       "    </tr>\n",
       "    <tr>\n",
       "      <th>3</th>\n",
       "      <td>b</td>\n",
       "      <td>1</td>\n",
       "      <td>3</td>\n",
       "      <td>4</td>\n",
       "      <td>6</td>\n",
       "      <td>0</td>\n",
       "      <td>1</td>\n",
       "      <td>0</td>\n",
       "      <td>1</td>\n",
       "      <td>313</td>\n",
       "      <td>...</td>\n",
       "      <td>1.0</td>\n",
       "      <td>0.0</td>\n",
       "      <td>1.0</td>\n",
       "      <td>0.0</td>\n",
       "      <td>0.0</td>\n",
       "      <td>0.0</td>\n",
       "      <td>0.0</td>\n",
       "      <td>0.0</td>\n",
       "      <td>0.0</td>\n",
       "      <td></td>\n",
       "    </tr>\n",
       "    <tr>\n",
       "      <th>4</th>\n",
       "      <td>b</td>\n",
       "      <td>1</td>\n",
       "      <td>3</td>\n",
       "      <td>3</td>\n",
       "      <td>22</td>\n",
       "      <td>0</td>\n",
       "      <td>0</td>\n",
       "      <td>0</td>\n",
       "      <td>0</td>\n",
       "      <td>313</td>\n",
       "      <td>...</td>\n",
       "      <td>1.0</td>\n",
       "      <td>1.0</td>\n",
       "      <td>0.0</td>\n",
       "      <td>0.0</td>\n",
       "      <td>0.0</td>\n",
       "      <td>0.0</td>\n",
       "      <td>0.0</td>\n",
       "      <td>1.0</td>\n",
       "      <td>0.0</td>\n",
       "      <td>Nonprofit</td>\n",
       "    </tr>\n",
       "  </tbody>\n",
       "</table>\n",
       "<p>5 rows × 65 columns</p>\n",
       "</div>"
      ],
      "text/plain": [
       "  id ad  education  ofjobs  yearsexp  honors  volunteer  military  empholes  \\\n",
       "0  b  1          4       2         6       0          0         0         1   \n",
       "1  b  1          3       3         6       0          1         1         0   \n",
       "2  b  1          4       1         6       0          0         0         0   \n",
       "3  b  1          3       4         6       0          1         0         1   \n",
       "4  b  1          3       3        22       0          0         0         0   \n",
       "\n",
       "   occupspecific    ...      compreq  orgreq  manuf  transcom  bankreal trade  \\\n",
       "0             17    ...          1.0     0.0    1.0       0.0       0.0   0.0   \n",
       "1            316    ...          1.0     0.0    1.0       0.0       0.0   0.0   \n",
       "2             19    ...          1.0     0.0    1.0       0.0       0.0   0.0   \n",
       "3            313    ...          1.0     0.0    1.0       0.0       0.0   0.0   \n",
       "4            313    ...          1.0     1.0    0.0       0.0       0.0   0.0   \n",
       "\n",
       "  busservice othservice  missind  ownership  \n",
       "0        0.0        0.0      0.0             \n",
       "1        0.0        0.0      0.0             \n",
       "2        0.0        0.0      0.0             \n",
       "3        0.0        0.0      0.0             \n",
       "4        0.0        1.0      0.0  Nonprofit  \n",
       "\n",
       "[5 rows x 65 columns]"
      ]
     },
     "execution_count": 4,
     "metadata": {},
     "output_type": "execute_result"
    }
   ],
   "source": [
    "data.head()"
   ]
  },
  {
   "cell_type": "markdown",
   "metadata": {},
   "source": [
    "# Question 1"
   ]
  },
  {
   "cell_type": "markdown",
   "metadata": {
    "collapsed": true
   },
   "source": [
    "Since we are measuring success based on the number of callbacks within a sample, it would be appropriate to do a two-sample proportion z-test for our hypotheses. For the CLT to apply, we need to verify normality of both distributions. Usually, if (n * p)>=10 and (n * (1-p))>=10, where n is the number of observations and p is the proportion of successes, we can assume that the distribution is approximately normal."
   ]
  },
  {
   "cell_type": "code",
   "execution_count": 5,
   "metadata": {},
   "outputs": [
    {
     "name": "stdout",
     "output_type": "stream",
     "text": [
      "<class 'pandas.core.frame.DataFrame'>\n",
      "Int64Index: 2435 entries, 0 to 4869\n",
      "Data columns (total 65 columns):\n",
      "id                    2435 non-null object\n",
      "ad                    2435 non-null object\n",
      "education             2435 non-null int8\n",
      "ofjobs                2435 non-null int8\n",
      "yearsexp              2435 non-null int8\n",
      "honors                2435 non-null int8\n",
      "volunteer             2435 non-null int8\n",
      "military              2435 non-null int8\n",
      "empholes              2435 non-null int8\n",
      "occupspecific         2435 non-null int16\n",
      "occupbroad            2435 non-null int8\n",
      "workinschool          2435 non-null int8\n",
      "email                 2435 non-null int8\n",
      "computerskills        2435 non-null int8\n",
      "specialskills         2435 non-null int8\n",
      "firstname             2435 non-null object\n",
      "sex                   2435 non-null object\n",
      "race                  2435 non-null object\n",
      "h                     2435 non-null float32\n",
      "l                     2435 non-null float32\n",
      "call                  2435 non-null float32\n",
      "city                  2435 non-null object\n",
      "kind                  2435 non-null object\n",
      "adid                  2435 non-null float32\n",
      "fracblack             2390 non-null float32\n",
      "fracwhite             2390 non-null float32\n",
      "lmedhhinc             2390 non-null float32\n",
      "fracdropout           2390 non-null float32\n",
      "fraccolp              2390 non-null float32\n",
      "linc                  2390 non-null float32\n",
      "col                   2435 non-null float32\n",
      "expminreq             2435 non-null object\n",
      "schoolreq             2435 non-null object\n",
      "eoe                   2435 non-null float32\n",
      "parent_sales          836 non-null float32\n",
      "parent_emp            861 non-null float32\n",
      "branch_sales          304 non-null float32\n",
      "branch_emp            329 non-null float32\n",
      "fed                   1551 non-null float32\n",
      "fracblack_empzip      959 non-null float32\n",
      "fracwhite_empzip      959 non-null float32\n",
      "lmedhhinc_empzip      954 non-null float32\n",
      "fracdropout_empzip    959 non-null float32\n",
      "fraccolp_empzip       959 non-null float32\n",
      "linc_empzip           959 non-null float32\n",
      "manager               2435 non-null float32\n",
      "supervisor            2435 non-null float32\n",
      "secretary             2435 non-null float32\n",
      "offsupport            2435 non-null float32\n",
      "salesrep              2435 non-null float32\n",
      "retailsales           2435 non-null float32\n",
      "req                   2435 non-null float32\n",
      "expreq                2435 non-null float32\n",
      "comreq                2435 non-null float32\n",
      "educreq               2435 non-null float32\n",
      "compreq               2435 non-null float32\n",
      "orgreq                2435 non-null float32\n",
      "manuf                 2435 non-null float32\n",
      "transcom              2435 non-null float32\n",
      "bankreal              2435 non-null float32\n",
      "trade                 2435 non-null float32\n",
      "busservice            2435 non-null float32\n",
      "othservice            2435 non-null float32\n",
      "missind               2435 non-null float32\n",
      "ownership             2435 non-null object\n",
      "dtypes: float32(42), int16(1), int8(12), object(10)\n",
      "memory usage: 642.0+ KB\n",
      "<class 'pandas.core.frame.DataFrame'>\n",
      "Int64Index: 2435 entries, 2 to 4868\n",
      "Data columns (total 65 columns):\n",
      "id                    2435 non-null object\n",
      "ad                    2435 non-null object\n",
      "education             2435 non-null int8\n",
      "ofjobs                2435 non-null int8\n",
      "yearsexp              2435 non-null int8\n",
      "honors                2435 non-null int8\n",
      "volunteer             2435 non-null int8\n",
      "military              2435 non-null int8\n",
      "empholes              2435 non-null int8\n",
      "occupspecific         2435 non-null int16\n",
      "occupbroad            2435 non-null int8\n",
      "workinschool          2435 non-null int8\n",
      "email                 2435 non-null int8\n",
      "computerskills        2435 non-null int8\n",
      "specialskills         2435 non-null int8\n",
      "firstname             2435 non-null object\n",
      "sex                   2435 non-null object\n",
      "race                  2435 non-null object\n",
      "h                     2435 non-null float32\n",
      "l                     2435 non-null float32\n",
      "call                  2435 non-null float32\n",
      "city                  2435 non-null object\n",
      "kind                  2435 non-null object\n",
      "adid                  2435 non-null float32\n",
      "fracblack             2394 non-null float32\n",
      "fracwhite             2394 non-null float32\n",
      "lmedhhinc             2394 non-null float32\n",
      "fracdropout           2394 non-null float32\n",
      "fraccolp              2394 non-null float32\n",
      "linc                  2394 non-null float32\n",
      "col                   2435 non-null float32\n",
      "expminreq             2435 non-null object\n",
      "schoolreq             2435 non-null object\n",
      "eoe                   2435 non-null float32\n",
      "parent_sales          836 non-null float32\n",
      "parent_emp            861 non-null float32\n",
      "branch_sales          304 non-null float32\n",
      "branch_emp            329 non-null float32\n",
      "fed                   1551 non-null float32\n",
      "fracblack_empzip      959 non-null float32\n",
      "fracwhite_empzip      959 non-null float32\n",
      "lmedhhinc_empzip      954 non-null float32\n",
      "fracdropout_empzip    959 non-null float32\n",
      "fraccolp_empzip       959 non-null float32\n",
      "linc_empzip           959 non-null float32\n",
      "manager               2435 non-null float32\n",
      "supervisor            2435 non-null float32\n",
      "secretary             2435 non-null float32\n",
      "offsupport            2435 non-null float32\n",
      "salesrep              2435 non-null float32\n",
      "retailsales           2435 non-null float32\n",
      "req                   2435 non-null float32\n",
      "expreq                2435 non-null float32\n",
      "comreq                2435 non-null float32\n",
      "educreq               2435 non-null float32\n",
      "compreq               2435 non-null float32\n",
      "orgreq                2435 non-null float32\n",
      "manuf                 2435 non-null float32\n",
      "transcom              2435 non-null float32\n",
      "bankreal              2435 non-null float32\n",
      "trade                 2435 non-null float32\n",
      "busservice            2435 non-null float32\n",
      "othservice            2435 non-null float32\n",
      "missind               2435 non-null float32\n",
      "ownership             2435 non-null object\n",
      "dtypes: float32(42), int16(1), int8(12), object(10)\n",
      "memory usage: 642.0+ KB\n"
     ]
    },
    {
     "data": {
      "text/plain": [
       "157.0"
      ]
     },
     "execution_count": 5,
     "metadata": {},
     "output_type": "execute_result"
    }
   ],
   "source": [
    "w = data[data.race=='w']\n",
    "b = data[data.race=='b']\n",
    "w.info()\n",
    "b.info()\n",
    "sum(b.call)"
   ]
  },
  {
   "cell_type": "markdown",
   "metadata": {},
   "source": [
    "Both groups have 2435 entries. The proportion of callbacks for the white group is 235/2435, so n * p = 235. Since n * (1-p) = 2200, this distribution is approximately normal. For the black group, the proportion of callbacks is 157/2435, so (n * p) = 157 and n * (1-p) = 2278. Both are greater than 10, so the black group also has an approximately normal distribution. We will assume that the proportion of callbacks between the group is independent of each other (calling one person back does not affect whether or not someone else will be called back). Thus, the CLT applies in this scenario."
   ]
  },
  {
   "cell_type": "markdown",
   "metadata": {},
   "source": [
    "# Question 2 and 3 "
   ]
  },
  {
   "cell_type": "markdown",
   "metadata": {},
   "source": [
    "- Null hypothesis: There is no difference between the proportion of callbacks between black-sounding and white-sounding names.\n",
    "- Alternate hypothesis: There is a difference between the proportion of callbacks between black-sounding and white-sounding names.\n",
    "We will use alpha = 0.05, and since this is a two-sided test, we will reject the null hypothesis if the p-value>0.975 or <.025"
   ]
  },
  {
   "cell_type": "code",
   "execution_count": 6,
   "metadata": {},
   "outputs": [
    {
     "name": "stdout",
     "output_type": "stream",
     "text": [
      "The p-value is 0.99998068717396238\n"
     ]
    }
   ],
   "source": [
    "# Let's use the frequentist approach first to test our hypothesis.\n",
    "p_white = sum(w.call)/len(w.call)\n",
    "p_black = sum(b.call)/len(b.call)\n",
    "difference = p_white - p_black\n",
    "var_white = (p_white * (1-p_white))/len(w)\n",
    "var_black= (p_black * (1-p_black))/len(b)\n",
    "standard_error = np.sqrt(var_white + var_black)\n",
    "z_score = difference/standard_error\n",
    "p_value = stats.norm.cdf(z_score)\n",
    "print(\"The p-value is \" + `p_value`)"
   ]
  },
  {
   "cell_type": "markdown",
   "metadata": {},
   "source": [
    "Thus, we reject the null hypothesis."
   ]
  },
  {
   "cell_type": "markdown",
   "metadata": {},
   "source": [
    "Now, let's create a confidence interval for the difference between callback proportions for white-sounding names and black-sounding names."
   ]
  },
  {
   "cell_type": "code",
   "execution_count": 7,
   "metadata": {},
   "outputs": [
    {
     "name": "stdout",
     "output_type": "stream",
     "text": [
      "(0.016777728181230755, 0.047287980237660412)\n"
     ]
    }
   ],
   "source": [
    "conf_int = stats.norm.interval(0.95,loc=difference,scale=standard_error)\n",
    "print conf_int"
   ]
  },
  {
   "cell_type": "markdown",
   "metadata": {},
   "source": [
    "We will now use the bootstrap approach to test the hypotheses and create a confidence interval."
   ]
  },
  {
   "cell_type": "code",
   "execution_count": 8,
   "metadata": {
    "collapsed": true
   },
   "outputs": [],
   "source": [
    "# defining the necessary functions to create \n",
    "def  bootstrap_replicate_1d(data, func):\n",
    "    \"\"\"Generate bootstrap replicate of 1D data.\"\"\"\n",
    "    bs_sample = np.random.choice(data, len(data))\n",
    "    return func(bs_sample)\n",
    "\n",
    "def draw_bs_reps(data, func, size=1):\n",
    "    \"\"\"Draw bootstrap replicates.\"\"\"\n",
    "\n",
    "    # Initialize array of replicates: bs_replicates\n",
    "    bs_replicates = np.empty(size)\n",
    "\n",
    "    # Generate replicates\n",
    "    for i in range(size):\n",
    "        bs_replicates[i] = bootstrap_replicate_1d(data,func)\n",
    "\n",
    "    return bs_replicates"
   ]
  },
  {
   "cell_type": "code",
   "execution_count": 9,
   "metadata": {},
   "outputs": [
    {
     "name": "stdout",
     "output_type": "stream",
     "text": [
      "p-value is 0\n"
     ]
    }
   ],
   "source": [
    "# first we need the overall proportion of callbacks\n",
    "# keep in mind, in this case, taking the proportion of those with callbacks\n",
    "# is the same as taking the mean of the callback column\n",
    "# so we will do a two-sample bootstrap test on the mean\n",
    "\n",
    "p_total = np.mean(data.call)\n",
    "\n",
    "# shift such that both callback columns have means equal to the total\n",
    "p_white_shifted = w.call - np.mean(p_white) + p_total\n",
    "p_black_shifted = b.call - np.mean(p_black) + p_total\n",
    "\n",
    "bs_replicates = draw_bs_reps(p_white_shifted,np.mean,10000) - draw_bs_reps(p_black_shifted,np.mean,10000)\n",
    "empirical_diff_p = p_white - p_black\n",
    "\n",
    "p = np.sum(bs_replicates >= empirical_diff_p) / len(bs_replicates)\n",
    "print(\"p-value is \" + `p`)"
   ]
  },
  {
   "cell_type": "markdown",
   "metadata": {},
   "source": [
    "Thus, no matter our significance level, we reject the null hypothesis. Let's construct a confidence interval based on our bootstrap replicates."
   ]
  },
  {
   "cell_type": "code",
   "execution_count": 10,
   "metadata": {},
   "outputs": [
    {
     "name": "stdout",
     "output_type": "stream",
     "text": [
      "[-0.01519509  0.01478437]\n"
     ]
    }
   ],
   "source": [
    "conf_int = np.percentile(bs_replicates,[2.5,97.5])\n",
    "print conf_int"
   ]
  },
  {
   "cell_type": "markdown",
   "metadata": {},
   "source": [
    "# Question 4 and 5"
   ]
  },
  {
   "cell_type": "markdown",
   "metadata": {},
   "source": [
    "Since we rejected the null hypothesis in both our approaches, the appropriate conclusion to make would be that there is a significant difference in the proportion of white-sounding names that get callbacks when compared to black-sounding names. Now, there could be some sources of variability: For one, some names could be white-sounding or black-sounding (this is subjective). Moreover, it could depend on the industry or field that the employers were in. However, the fact that there is such a large difference in the proportion definitely sounds like a cause for concern. This is certainly worth investigating further. "
   ]
  },
  {
   "cell_type": "markdown",
   "metadata": {
    "collapsed": true
   },
   "source": [
    "Our analysis does not mean that race was the most important factor at all. The appropriate conclusions were stated earlier, and nothing more can be extracted from our hypothesis test. We would have to do additional analyses and hypothesis testing to assess the effect of other factors on whether or not a resumé got a callback. To do this, we may separate the dataset into two datasets just like we did for this example."
   ]
  },
  {
   "cell_type": "code",
   "execution_count": null,
   "metadata": {
    "collapsed": true
   },
   "outputs": [],
   "source": []
  }
 ],
 "metadata": {
  "kernelspec": {
   "display_name": "Python 2",
   "language": "python",
   "name": "python2"
  },
  "language_info": {
   "codemirror_mode": {
    "name": "ipython",
    "version": 2
   },
   "file_extension": ".py",
   "mimetype": "text/x-python",
   "name": "python",
   "nbconvert_exporter": "python",
   "pygments_lexer": "ipython2",
   "version": "2.7.14"
  }
 },
 "nbformat": 4,
 "nbformat_minor": 1
}
