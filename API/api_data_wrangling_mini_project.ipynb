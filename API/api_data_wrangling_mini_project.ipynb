{
 "cells": [
  {
   "cell_type": "markdown",
   "metadata": {},
   "source": [
    "This exercise will require you to pull some data from the Qunadl API. Qaundl is currently the most widely used aggregator of financial market data."
   ]
  },
  {
   "cell_type": "markdown",
   "metadata": {},
   "source": [
    "As a first step, you will need to register a free account on the http://www.quandl.com website."
   ]
  },
  {
   "cell_type": "markdown",
   "metadata": {},
   "source": [
    "After you register, you will be provided with a unique API key, that you should store:"
   ]
  },
  {
   "cell_type": "code",
   "execution_count": 2,
   "metadata": {
    "collapsed": true
   },
   "outputs": [],
   "source": [
    "# Store the API key as a string - according to PEP8, constants are always named in all upper case\n",
    "API_KEY = ''"
   ]
  },
  {
   "cell_type": "markdown",
   "metadata": {},
   "source": [
    "Qaundl has a large number of data sources, but, unfortunately, most of them require a Premium subscription. Still, there are also a good number of free datasets."
   ]
  },
  {
   "cell_type": "markdown",
   "metadata": {},
   "source": [
    "For this mini project, we will focus on equities data from the Frankfurt Stock Exhange (FSE), which is available for free. We'll try and analyze the stock prices of a company called Carl Zeiss Meditec, which manufactures tools for eye examinations, as well as medical lasers for laser eye surgery: https://www.zeiss.com/meditec/int/home.html. The company is listed under the stock ticker AFX_X."
   ]
  },
  {
   "cell_type": "markdown",
   "metadata": {},
   "source": [
    "\n",
    "You can find the detailed Quandl API instructions here: https://docs.quandl.com/docs/time-series"
   ]
  },
  {
   "cell_type": "markdown",
   "metadata": {},
   "source": [
    "While there is a dedicated Python package for connecting to the Quandl API, we would prefer that you use the *requests* package, which can be easily downloaded using *pip* or *conda*. You can find the documentation for the package here: http://docs.python-requests.org/en/master/ "
   ]
  },
  {
   "cell_type": "markdown",
   "metadata": {},
   "source": [
    "Finally, apart from the *requests* package, you are encouraged to not use any third party Python packages, such as *pandas*, and instead focus on what's available in the Python Standard Library (the *collections* module might come in handy: https://pymotw.com/3/collections/).\n",
    "Also, since you won't have access to DataFrames, you are encouraged to us Python's native data structures - preferably dictionaries, though some questions can also be answered using lists.\n",
    "You can read more on these data structures here: https://docs.python.org/3/tutorial/datastructures.html"
   ]
  },
  {
   "cell_type": "markdown",
   "metadata": {},
   "source": [
    "Keep in mind that the JSON responses you will be getting from the API map almost one-to-one to Python's dictionaries. Unfortunately, they can be very nested, so make sure you read up on indexing dictionaries in the documentation provided above."
   ]
  },
  {
   "cell_type": "code",
   "execution_count": 1,
   "metadata": {
    "collapsed": true
   },
   "outputs": [],
   "source": [
    "# First, import the relevant modules\n",
    "import requests\n"
   ]
  },
  {
   "cell_type": "code",
   "execution_count": 4,
   "metadata": {
    "collapsed": true
   },
   "outputs": [],
   "source": [
    "# Now, call the Quandl API and pull out a small sample of the data (only one day) to get a glimpse\n",
    "# into the JSON structure that will be returned\n",
    "url = 'https://www.quandl.com/api/v3/datasets/FSE/EON_X?start_date=2018-06-25&end_date=2018-06-25&' + API_KEY\n",
    "r = requests.get(url)\n",
    "json_data = r.json()"
   ]
  },
  {
   "cell_type": "code",
   "execution_count": 5,
   "metadata": {},
   "outputs": [
    {
     "data": {
      "text/plain": [
       "{u'dataset': {u'collapse': None,\n",
       "  u'column_index': None,\n",
       "  u'column_names': [u'Date',\n",
       "   u'Open',\n",
       "   u'High',\n",
       "   u'Low',\n",
       "   u'Close',\n",
       "   u'Change',\n",
       "   u'Traded Volume',\n",
       "   u'Turnover',\n",
       "   u'Last Price of the Day',\n",
       "   u'Daily Traded Units',\n",
       "   u'Daily Turnover'],\n",
       "  u'data': [[u'2018-06-25',\n",
       "    None,\n",
       "    9.102,\n",
       "    8.993,\n",
       "    9.01,\n",
       "    None,\n",
       "    9066667.0,\n",
       "    81849195.0,\n",
       "    None,\n",
       "    None,\n",
       "    None]],\n",
       "  u'database_code': u'FSE',\n",
       "  u'database_id': 6129,\n",
       "  u'dataset_code': u'EON_X',\n",
       "  u'description': u'Stock Prices for E.on Se (EON) from the Frankfurt Stock Exchange.<br><br>Trading System: Xetra<br><br>ISIN: DE000ENAG999',\n",
       "  u'end_date': u'2018-06-25',\n",
       "  u'frequency': u'daily',\n",
       "  u'id': 36592406,\n",
       "  u'limit': None,\n",
       "  u'name': u'E.on Se (EON_X)',\n",
       "  u'newest_available_date': u'2018-06-25',\n",
       "  u'oldest_available_date': u'2003-01-20',\n",
       "  u'order': None,\n",
       "  u'premium': False,\n",
       "  u'refreshed_at': u'2018-06-25T22:28:49.218Z',\n",
       "  u'start_date': u'2018-06-25',\n",
       "  u'transform': None,\n",
       "  u'type': u'Time Series'}}"
      ]
     },
     "execution_count": 5,
     "metadata": {},
     "output_type": "execute_result"
    }
   ],
   "source": [
    "# Inspect the JSON structure of the object you created, and take note of how nested it is,\n",
    "# as well as the overall structure\n",
    "json_data"
   ]
  },
  {
   "cell_type": "markdown",
   "metadata": {},
   "source": [
    "These are your tasks for this mini project:\n",
    "\n",
    "1. Collect data from the Franfurt Stock Exchange, for the ticker AFX_X, for the whole year 2017 (keep in mind that the date format is YYYY-MM-DD).\n",
    "2. Convert the returned JSON object into a Python dictionary.\n",
    "3. Calculate what the highest and lowest opening prices were for the stock in this period.\n",
    "4. What was the largest change in any one day (based on High and Low price)?\n",
    "5. What was the largest change between any two days (based on Closing Price)?\n",
    "6. What was the average daily trading volume during this year?\n",
    "7. (Optional) What was the median trading volume during this year. (Note: you may need to implement your own function for calculating the median.)"
   ]
  },
  {
   "cell_type": "code",
   "execution_count": 9,
   "metadata": {
    "collapsed": true
   },
   "outputs": [],
   "source": [
    "# collecting data and converting to Python dictionary\n",
    "url = 'https://www.quandl.com/api/v3/datasets/FSE/EON_X?start_date=2017-01-01&end_date=2017-12-31&' + API_KEY\n",
    "r = requests.get(url)\n",
    "json_data = r.json()"
   ]
  },
  {
   "cell_type": "code",
   "execution_count": 18,
   "metadata": {},
   "outputs": [
    {
     "name": "stdout",
     "output_type": "stream",
     "text": [
      "The highest opening price was 10.75\n",
      "The lowest opening price was 6.65\n"
     ]
    }
   ],
   "source": [
    "# make list of all opening prices using list comprehension\n",
    "opening_prices = [li[1] for li in json_data['dataset']['data']]\n",
    "# calculate the highest\n",
    "print(\"The highest opening price was \" + `max(opening_prices)`)\n",
    "# calculate the lowest\n",
    "print(\"The lowest opening price was \" + `min(opening_prices)`)"
   ]
  },
  {
   "cell_type": "code",
   "execution_count": 28,
   "metadata": {},
   "outputs": [
    {
     "name": "stdout",
     "output_type": "stream",
     "text": [
      "The highest price change was 0.6999999999999993\n"
     ]
    }
   ],
   "source": [
    "# make list of all changes in price using list comprehension\n",
    "change_in_prices = [abs(li[2]-li[3]) for li in json_data['dataset']['data']]\n",
    "# calculate the highest\n",
    "print(\"The greatest absolute price change was \" + `max(change_in_prices)`)"
   ]
  },
  {
   "cell_type": "code",
   "execution_count": 31,
   "metadata": {},
   "outputs": [
    {
     "name": "stdout",
     "output_type": "stream",
     "text": [
      "The greatest price change over two days was: 0.47999999999999865\n"
     ]
    }
   ],
   "source": [
    "# make list of all changes in closing price over two days using for loop\n",
    "change_in_prices_2d = []\n",
    "for i in range(1,len(json_data['dataset']['data'])):\n",
    "    change_in_prices_2d.append(abs(json_data['dataset']['data'][i][4]-json_data['dataset']['data'][i-1][4]))\n",
    "# calculate maximum change in price\n",
    "print(\"The greatest price change over two days was: \" + `max(change_in_prices_2d)`)"
   ]
  },
  {
   "cell_type": "code",
   "execution_count": 35,
   "metadata": {},
   "outputs": [
    {
     "name": "stdout",
     "output_type": "stream",
     "text": [
      "The average trading volume is: 11708661.142857144\n"
     ]
    }
   ],
   "source": [
    "#make list of all daily trading volumes using list comprehension\n",
    "trading_volumes = [li[6] for li in json_data['dataset']['data']]\n",
    "# calculate the mean trading volume using average formula\n",
    "avg = sum(trading_volumes)/float(len(trading_volumes))\n",
    "print(\"The average trading volume is: \" + `avg`)"
   ]
  },
  {
   "cell_type": "code",
   "execution_count": 36,
   "metadata": {},
   "outputs": [
    {
     "name": "stdout",
     "output_type": "stream",
     "text": [
      "The median trading volume is: 10542121.0\n"
     ]
    }
   ],
   "source": [
    "# define function to find median of  list\n",
    "def median(lst):\n",
    "    sortedLst = sorted(lst)\n",
    "    lstLen = len(lst)\n",
    "    index = (lstLen - 1) // 2\n",
    "\n",
    "    if (lstLen % 2):\n",
    "        return sortedLst[index]\n",
    "    else:\n",
    "        return (sortedLst[index] + sortedLst[index + 1])/2.0\n",
    "print(\"The median trading volume is: \" + `median(trading_volumes)`)"
   ]
  },
  {
   "cell_type": "code",
   "execution_count": null,
   "metadata": {
    "collapsed": true
   },
   "outputs": [],
   "source": []
  }
 ],
 "metadata": {
  "kernelspec": {
   "display_name": "Python 2",
   "language": "python",
   "name": "python2"
  },
  "language_info": {
   "codemirror_mode": {
    "name": "ipython",
    "version": 2
   },
   "file_extension": ".py",
   "mimetype": "text/x-python",
   "name": "python",
   "nbconvert_exporter": "python",
   "pygments_lexer": "ipython2",
   "version": "2.7.14"
  }
 },
 "nbformat": 4,
 "nbformat_minor": 2
}
