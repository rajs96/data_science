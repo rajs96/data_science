{
 "cells": [
  {
   "cell_type": "markdown",
   "metadata": {},
   "source": [
    "# AdaBoost Model"
   ]
  },
  {
   "cell_type": "code",
   "execution_count": 1,
   "metadata": {},
   "outputs": [],
   "source": [
    "# importing some needed modules\n",
    "import numpy as np\n",
    "import matplotlib.pyplot as plt\n",
    "import pandas as pd"
   ]
  },
  {
   "cell_type": "code",
   "execution_count": 2,
   "metadata": {},
   "outputs": [],
   "source": [
    "# importing the data\n",
    "filename = 'drugAbuse_data_cleaned_model_ready.csv'\n",
    "df = pd.read_csv(filename)"
   ]
  },
  {
   "cell_type": "code",
   "execution_count": 3,
   "metadata": {},
   "outputs": [],
   "source": [
    "df.drop(columns=['Unnamed: 0'],inplace=True)"
   ]
  },
  {
   "cell_type": "code",
   "execution_count": 4,
   "metadata": {},
   "outputs": [],
   "source": [
    "from sklearn.tree import DecisionTreeClassifier\n",
    "from sklearn.ensemble import AdaBoostClassifier\n",
    "from sklearn.model_selection import RandomizedSearchCV\n",
    "from sklearn.model_selection import GridSearchCV\n",
    "from sklearn.model_selection import train_test_split\n",
    "from sklearn.metrics import accuracy_score\n",
    "from sklearn.metrics import classification_report\n",
    "from sklearn.metrics import confusion_matrix\n",
    "from sklearn.metrics import roc_auc_score\n",
    "from sklearn.metrics import roc_curve\n",
    "\n",
    "# function to describe model results\n",
    "# model must already be fitted\n",
    "def model_results(model,X,y):\n",
    "    \n",
    "    y_pred = model.predict(X)\n",
    "    print(\"Results\")\n",
    "    print(\"\\n\")\n",
    "    # accuracy score\n",
    "    print(\"Accuracy Score: {}\".format(accuracy_score(y_pred,y)))\n",
    "\n",
    "    # classification report \n",
    "    print(\"Classification Report: \\n {}\".format(classification_report(y,y_pred)))\n",
    "\n",
    "    # confusion matrix \n",
    "    print(\"Confusion Matrix: \\n {}\".format(confusion_matrix(y,y_pred)))\n",
    "\n",
    "    # AUC score \n",
    "    print(\"AUC Score: {}\".format(roc_auc_score(y,model.predict_proba(X)[:,1])))\n",
    "\n",
    "    # Generate ROC curve values: fpr, tpr, thresholds\n",
    "    fpr, tpr, thresholds = roc_curve(y, model.predict_proba(X)[:,1])\n",
    "\n",
    "    # Plot ROC curve\n",
    "    plt.plot([0, 1], [0, 1], 'k--')\n",
    "    plt.plot(fpr, tpr)\n",
    "    plt.xlabel('False Positive Rate')\n",
    "    plt.ylabel('True Positive Rate')\n",
    "    plt.title('ROC Curve')\n",
    "    plt.show()    "
   ]
  },
  {
   "cell_type": "markdown",
   "metadata": {},
   "source": [
    "Since we are using a learning rate, we should scale our data before we use our algorithm. Thus, we will use a pipeline."
   ]
  },
  {
   "cell_type": "markdown",
   "metadata": {},
   "source": [
    "We will use a balanced decision tree as our base estimator."
   ]
  },
  {
   "cell_type": "code",
   "execution_count": 8,
   "metadata": {},
   "outputs": [
    {
     "name": "stdout",
     "output_type": "stream",
     "text": [
      "Tuned AdaBoost Parameters: {'adaboost__learning_rate': 1, 'adaboost__n_estimators': 50}\n",
      "Results\n",
      "\n",
      "\n",
      "Accuracy Score: 0.934121312076\n",
      "Classification Report: \n",
      "              precision    recall  f1-score   support\n",
      "\n",
      "          0       0.98      0.95      0.96      9742\n",
      "          1       0.66      0.81      0.73      1172\n",
      "\n",
      "avg / total       0.94      0.93      0.94     10914\n",
      "\n",
      "Confusion Matrix: \n",
      " [[9246  496]\n",
      " [ 223  949]]\n",
      "AUC Score: 0.964884637995\n"
     ]
    },
    {
     "data": {
      "image/png": "[encoded data removed]",
      "text/plain": [
       "<Figure size 432x288 with 1 Axes>"
      ]
     },
     "metadata": {},
     "output_type": "display_data"
    },
    {
     "name": "stdout",
     "output_type": "stream",
     "text": [
      "CPU times: user 2min 7s, sys: 1.12 s, total: 2min 8s\n",
      "Wall time: 2min 9s\n"
     ]
    }
   ],
   "source": [
    "%%time\n",
    "from sklearn.pipeline import Pipeline\n",
    "from sklearn.preprocessing import StandardScaler\n",
    "\n",
    "# create our X and y\n",
    "X = df.drop(columns=['Severe Psychological Distress Past Month'])\n",
    "y = df['Severe Psychological Distress Past Month'].values\n",
    "\n",
    "# Setup the pipeline\n",
    "steps = [('scaler', StandardScaler()),\n",
    "         ('adaboost', AdaBoostClassifier(base_estimator=DecisionTreeClassifier(class_weight='balanced')))]\n",
    "\n",
    "pipeline = Pipeline(steps)\n",
    "\n",
    "# Specify the hyperparameter space\n",
    "\n",
    "# Create train and test sets\n",
    "X_train, X_test, y_train, y_test = train_test_split(X, y, test_size=0.25, random_state=37)\n",
    "\n",
    "n_trees = [10,20,50,100]\n",
    "learning_rates = [10,1,0.1,0.01,0.001]\n",
    "\n",
    "parameters = {'adaboost__n_estimators':n_trees,\n",
    "             'adaboost__learning_rate':learning_rates}\n",
    "\n",
    "# Instantiate the GridSearchCV object: cv\n",
    "cv = GridSearchCV(pipeline, parameters,cv=5,scoring='average_precision')\n",
    "\n",
    "# Fit to the training set\n",
    "cv.fit(X_train, y_train)\n",
    "\n",
    "# Print the tuned parameters and score\n",
    "print(\"Tuned AdaBoost Parameters: {}\".format(cv.best_params_)) \n",
    "# see results on training data \n",
    "model_results(cv,X_train,y_train)"
   ]
  },
  {
   "cell_type": "markdown",
   "metadata": {},
   "source": [
    "We get very accurate results on the training data. Let's see how the algorithm performs on the test data."
   ]
  },
  {
   "cell_type": "code",
   "execution_count": 10,
   "metadata": {},
   "outputs": [
    {
     "name": "stdout",
     "output_type": "stream",
     "text": [
      "Results\n",
      "\n",
      "\n",
      "Accuracy Score: 0.834844737565\n",
      "Classification Report: \n",
      "              precision    recall  f1-score   support\n",
      "\n",
      "          0       0.90      0.92      0.91      3265\n",
      "          1       0.13      0.11      0.12       374\n",
      "\n",
      "avg / total       0.82      0.83      0.83      3639\n",
      "\n",
      "Confusion Matrix: \n",
      " [[2998  267]\n",
      " [ 334   40]]\n",
      "AUC Score: 0.461327398842\n"
     ]
    },
    {
     "data": {
      "image/png": "[encoded data removed]",
      "text/plain": [
       "<Figure size 432x288 with 1 Axes>"
      ]
     },
     "metadata": {},
     "output_type": "display_data"
    }
   ],
   "source": [
    "ada_boost = AdaBoostClassifier(base_estimator=DecisionTreeClassifier(class_weight='balanced'),\n",
    "                               learning_rate=1,n_estimators=50)\n",
    "ada_boost.fit(X_train,y_train)\n",
    "model_results(ada_boost,X_test,y_test)"
   ]
  },
  {
   "cell_type": "code",
   "execution_count": null,
   "metadata": {},
   "outputs": [],
   "source": []
  }
 ],
 "metadata": {
  "kernelspec": {
   "display_name": "Python 2",
   "language": "python",
   "name": "python2"
  },
  "language_info": {
   "codemirror_mode": {
    "name": "ipython",
    "version": 2
   },
   "file_extension": ".py",
   "mimetype": "text/x-python",
   "name": "python",
   "nbconvert_exporter": "python",
   "pygments_lexer": "ipython2",
   "version": "2.7.15"
  }
 },
 "nbformat": 4,
 "nbformat_minor": 2
}
