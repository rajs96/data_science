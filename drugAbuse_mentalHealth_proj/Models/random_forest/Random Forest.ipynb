{
 "cells": [
  {
   "cell_type": "markdown",
   "metadata": {},
   "source": [
    "# Random Forest Model"
   ]
  },
  {
   "cell_type": "code",
   "execution_count": 1,
   "metadata": {},
   "outputs": [],
   "source": [
    "# importing some needed modules\n",
    "import numpy as np\n",
    "import matplotlib.pyplot as plt\n",
    "import pandas as pd"
   ]
  },
  {
   "cell_type": "code",
   "execution_count": 2,
   "metadata": {},
   "outputs": [],
   "source": [
    "# importing the data\n",
    "filename = 'drugAbuse_data_cleaned_model_ready.csv'\n",
    "df = pd.read_csv(filename)"
   ]
  },
  {
   "cell_type": "code",
   "execution_count": 3,
   "metadata": {},
   "outputs": [],
   "source": [
    "df.drop(columns=['Unnamed: 0'],inplace=True)"
   ]
  },
  {
   "cell_type": "markdown",
   "metadata": {},
   "source": [
    "Let's write a function to print out the results on the training data, as well as the test data, given a model."
   ]
  },
  {
   "cell_type": "code",
   "execution_count": 4,
   "metadata": {},
   "outputs": [],
   "source": [
    "# import some modules we may need\n",
    "from sklearn.ensemble import RandomForestClassifier\n",
    "from sklearn.model_selection import RandomizedSearchCV\n",
    "from sklearn.model_selection import train_test_split\n",
    "from sklearn.metrics import accuracy_score\n",
    "from sklearn.metrics import classification_report\n",
    "from sklearn.metrics import confusion_matrix\n",
    "from sklearn.metrics import roc_auc_score\n",
    "from sklearn.metrics import roc_curve\n",
    "\n",
    "# function to describe model results\n",
    "# model must already be fitted\n",
    "def model_results(model,X,y):\n",
    "    \n",
    "    y_pred = model.predict(X)\n",
    "    print(\"Results\")\n",
    "    print(\"\\n\")\n",
    "    # accuracy score\n",
    "    print(\"Accuracy Score: {}\".format(accuracy_score(y_pred,y)))\n",
    "\n",
    "    # classification report \n",
    "    print(\"Classification Report: \\n {}\".format(classification_report(y,y_pred)))\n",
    "\n",
    "    # confusion matrix \n",
    "    print(\"Confusion Matrix: \\n {}\".format(confusion_matrix(y,y_pred)))\n",
    "\n",
    "    # AUC score \n",
    "    print(\"AUC Score: {}\".format(roc_auc_score(y,model.predict_proba(X)[:,1])))\n",
    "\n",
    "    # Generate ROC curve values: fpr, tpr, thresholds\n",
    "    fpr, tpr, thresholds = roc_curve(y, model.predict_proba(X)[:,1])\n",
    "\n",
    "    # Plot ROC curve\n",
    "    plt.plot([0, 1], [0, 1], 'k--')\n",
    "    plt.plot(fpr, tpr)\n",
    "    plt.xlabel('False Positive Rate')\n",
    "    plt.ylabel('True Positive Rate')\n",
    "    plt.title('ROC Curve')\n",
    "    plt.show()\n",
    "    "
   ]
  },
  {
   "cell_type": "markdown",
   "metadata": {},
   "source": [
    "Now, we will implement our random forest model. We will use RandomizedSearchCV to tune the parameters for the number of trees and the max_depth. Moreover, this time, we will use 'recall' as our best scoring metric because we can still end up with high accuracy scores, as well as high AUC scores, and still predict 'Severe Psychological Distress' incorrectly much of the time. "
   ]
  },
  {
   "cell_type": "code",
   "execution_count": 5,
   "metadata": {},
   "outputs": [
    {
     "name": "stdout",
     "output_type": "stream",
     "text": [
      "Tuned Random Forest Parameters: {'n_estimators': 100, 'max_depth': 4}\n",
      "Best score on training set is 0.200272731547\n",
      "Results\n",
      "\n",
      "\n",
      "Accuracy Score: 0.893897746014\n",
      "Classification Report: \n",
      "              precision    recall  f1-score   support\n",
      "\n",
      "          0       0.89      1.00      0.94      9752\n",
      "          1       1.00      0.00      0.01      1162\n",
      "\n",
      "avg / total       0.91      0.89      0.84     10914\n",
      "\n",
      "Confusion Matrix: \n",
      " [[9752    0]\n",
      " [1158    4]]\n",
      "AUC Score: 0.657385077636\n"
     ]
    },
    {
     "data": {
      "image/png": "[encoded data removed]",
      "text/plain": [
       "<Figure size 432x288 with 1 Axes>"
      ]
     },
     "metadata": {},
     "output_type": "display_data"
    },
    {
     "name": "stdout",
     "output_type": "stream",
     "text": [
      "CPU times: user 47.8 s, sys: 399 ms, total: 48.2 s\n",
      "Wall time: 48.7 s\n"
     ]
    }
   ],
   "source": [
    "%%time\n",
    "# create our X and y\n",
    "X = df.drop(columns=['Severe Psychological Distress Past Month'])\n",
    "y = df['Severe Psychological Distress Past Month'].values\n",
    "\n",
    "# we are using RandomizedSearchCV to see what the best number of trees for our model\n",
    "# because it would take a too much computational time to use GridSearch\n",
    "n_trees = [10,20,50,100,500,1000]\n",
    "possible_max_depths = [1,2,3,4,5]\n",
    "param_grid = {'n_estimators':n_trees,\n",
    "             'max_depth':possible_max_depths}\n",
    "\n",
    "# instantiate the classifier\n",
    "random_forest = RandomForestClassifier()\n",
    "\n",
    "# instantiate the GridSearchCV object\n",
    "cv = RandomizedSearchCV(random_forest,param_grid,cv=5,scoring='average_precision')\n",
    "# we are more interested in seeing how correctly\n",
    "# the classifier predicts severe psychological distress correctly\n",
    "\n",
    "# Create train and test sets\n",
    "X_train, X_test, y_train, y_test = train_test_split(X, y, test_size=0.25, random_state=26)\n",
    "\n",
    "# fit the model\n",
    "cv.fit(X_train, y_train)\n",
    "\n",
    "# Print the tuned parameters and score\n",
    "print(\"Tuned Random Forest Parameters: {}\".format(cv.best_params_)) \n",
    "print(\"Best score on training set is {}\".format(cv.best_score_))\n",
    "\n",
    "model_results(cv,X_train,y_train)\n",
    "\n",
    "random_forest = RandomForestClassifier(n_estimators=(cv.best_params_)['n_estimators'],\n",
    "                                      max_depth=(cv.best_params_)['max_depth'])\n",
    "random_forest.fit(X_train,y_train)"
   ]
  },
  {
   "cell_type": "markdown",
   "metadata": {},
   "source": [
    "As we can see, our model performed very poorly. Moreover, implementing RandomizedSearchCV and testing our model took about 1 minute implement. This could be due to a few different reasons. Perhaps, we are using too many features to classify our data. We may also not be tuning our hyperparameters properly."
   ]
  },
  {
   "cell_type": "markdown",
   "metadata": {},
   "source": [
    "Let's write a function to print the 'n' most important features of a random forest model, so we can see what features are having a strong impact on the model."
   ]
  },
  {
   "cell_type": "code",
   "execution_count": 6,
   "metadata": {},
   "outputs": [],
   "source": [
    "def n_most_important_features(df,y_column,model,n,print_feature_importances=False):\n",
    "    \"\"\"Returns and/or prints a list of the n most important features of a random forest model\"\"\"\n",
    "    feature_importances = list(model.feature_importances_)\n",
    "    # let's print out a list of the n most important features\n",
    "    \n",
    "    most_important_features = []\n",
    "    for i in range(1,n+1):\n",
    "        feature_importance = (sorted(feature_importances))[-1*i]\n",
    "        index = feature_importances.index(feature_importance)\n",
    "        if (print_feature_importances):\n",
    "            print(`(df.drop(columns=[y_column]).columns)[index]`\n",
    "              +\": \"+`feature_importance`+\" (Index: \" + `index` + \")\")\n",
    "        most_important_features.append((df.drop(columns=[y_column]).columns)[index])\n",
    "    return most_important_features"
   ]
  },
  {
   "cell_type": "markdown",
   "metadata": {},
   "source": [
    "Let's try another model by tuning some more hyperparameters. We never tried using the 'balanced' class_weight attribute: this could be useful since we have a higher proportion of individuals that do not have severe psychological score in the past month."
   ]
  },
  {
   "cell_type": "code",
   "execution_count": 7,
   "metadata": {
    "scrolled": true
   },
   "outputs": [
    {
     "name": "stdout",
     "output_type": "stream",
     "text": [
      "Tuned Random Forest Parameters: {'n_estimators': 50, 'max_features': 'log2', 'max_depth': 3, 'class_weight': 'balanced'}\n",
      "Results\n",
      "\n",
      "\n",
      "Accuracy Score: 0.67024005864\n",
      "Classification Report: \n",
      "              precision    recall  f1-score   support\n",
      "\n",
      "          0       0.93      0.69      0.79      9752\n",
      "          1       0.17      0.53      0.26      1162\n",
      "\n",
      "avg / total       0.84      0.67      0.73     10914\n",
      "\n",
      "Confusion Matrix: \n",
      " [[6695 3057]\n",
      " [ 542  620]]\n",
      "AUC Score: 0.641660027547\n"
     ]
    },
    {
     "data": {
      "image/png": "[encoded data removed]",
      "text/plain": [
       "<Figure size 432x288 with 1 Axes>"
      ]
     },
     "metadata": {},
     "output_type": "display_data"
    },
    {
     "name": "stdout",
     "output_type": "stream",
     "text": [
      "CPU times: user 16.3 s, sys: 307 ms, total: 16.6 s\n",
      "Wall time: 17 s\n"
     ]
    }
   ],
   "source": [
    "%%time\n",
    "# we are using RandomizedSearchCV to see what the best number of trees for our model\n",
    "# because it would take a too much computational time to use GridSearch\n",
    "from scipy.stats import randint\n",
    "n_trees = [10,20,50,100]\n",
    "possible_max_depths = [3,5,None]\n",
    "# tuning some more hyperparameters this time\n",
    "param_grid = {'n_estimators':n_trees,\n",
    "             'max_depth':possible_max_depths,\n",
    "             \"max_features\":['log2','sqrt'],\n",
    "             \"class_weight\":['balanced']}\n",
    "\n",
    "# instantiate the classifier\n",
    "random_forest = RandomForestClassifier()\n",
    "\n",
    "# instantiate the GridSearchCV object\n",
    "cv = RandomizedSearchCV(random_forest,param_grid,cv=5,scoring='average_precision')\n",
    "\n",
    "# fit the model\n",
    "cv.fit(X_train, y_train)\n",
    "\n",
    "# Print the tuned parameters and score\n",
    "print(\"Tuned Random Forest Parameters: {}\".format(cv.best_params_)) \n",
    "\n",
    "model_results(cv,X_train,y_train)"
   ]
  },
  {
   "cell_type": "markdown",
   "metadata": {},
   "source": [
    "Now, let's see if using the 25 most important features improves model performance at all."
   ]
  },
  {
   "cell_type": "code",
   "execution_count": 8,
   "metadata": {},
   "outputs": [
    {
     "name": "stdout",
     "output_type": "stream",
     "text": [
      "'First Used Marijuana Prior to 21': 0.1355345754175447 (Index: 36)\n",
      "'# Days Used Marijuana Past Year': 0.12215029494944556 (Index: 5)\n",
      "'First Used Marijuana Prior to 18': 0.11724225225255015 (Index: 22)\n",
      "'Alcohol Dependence in Past Year': 0.08719388707117054 (Index: 26)\n",
      "'Marijuana Recency': 0.06763456338538656 (Index: 10)\n",
      "'Marijuana Dependence in Past Year': 0.06021126871421822 (Index: 33)\n",
      "'# Days Used Marijuana Past Year (Range)': 0.04459479655853556 (Index: 2)\n",
      "'First Used Cocaine Prior to 21': 0.03980401631848509 (Index: 37)\n",
      "'First Used Alcohol Prior to 18': 0.03930886101449957 (Index: 32)\n",
      "'First Used Hallucinogens Prior to 18': 0.036207498607984535 (Index: 24)\n",
      "'Cocaine Recency': 0.027582735701004793 (Index: 8)\n",
      "'# Days Used Cocaine Past Year': 0.024261426993441693 (Index: 4)\n",
      "'LSD Recency': 0.020660667786749253 (Index: 13)\n",
      "'# Days Used Marijuana Past Month': 0.0202704405864593 (Index: 11)\n",
      "'First Used Cocaine Prior to 18': 0.020081557963661626 (Index: 27)\n",
      "'First Used Hallucinogens Prior to 21': 0.019305307675346804 (Index: 38)\n",
      "'# Days Used Marijuana Past Month (Range)': 0.017251815678376223 (Index: 7)\n",
      "'# Days Used Hallucinogens Past Year': 0.011762309298734787 (Index: 12)\n",
      "'First Used LSD Prior to 21': 0.011128172471847352 (Index: 34)\n",
      "'# Days Used Cocaine Past Year (Range)': 0.010103819421336374 (Index: 6)\n",
      "'# Days Used Alcohol Past Month': 0.00919799877069959 (Index: 3)\n",
      "'# Days Binge Drank Past Month': 0.00898600458755933 (Index: 18)\n",
      "'# Days Used Alcohol Past Year': 0.008490014423990125 (Index: 0)\n",
      "'# Days Used Hallucinogens Past Month (Range)': 0.007306646919295549 (Index: 15)\n",
      "'Alcohol Abuse in Past Year': 0.006202560626650606 (Index: 30)\n",
      "Results\n",
      "\n",
      "\n",
      "Accuracy Score: 0.641194795675\n",
      "Classification Report: \n",
      "              precision    recall  f1-score   support\n",
      "\n",
      "          0       0.93      0.65      0.76      9752\n",
      "          1       0.16      0.57      0.25      1162\n",
      "\n",
      "avg / total       0.85      0.64      0.71     10914\n",
      "\n",
      "Confusion Matrix: \n",
      " [[6334 3418]\n",
      " [ 498  664]]\n",
      "AUC Score: 0.642200231843\n"
     ]
    },
    {
     "data": {
      "image/png": "[encoded data removed]",
      "text/plain": [
       "<Figure size 432x288 with 1 Axes>"
      ]
     },
     "metadata": {},
     "output_type": "display_data"
    }
   ],
   "source": [
    "test_rf_model = RandomForestClassifier(**cv.best_params_)\n",
    "test_rf_model.fit(X_train,y_train)\n",
    "twenty_five_most_important_features = n_most_important_features(df,'Severe Psychological Distress Past Month',\n",
    "                                                                test_rf_model,25,print_feature_importances=True)\n",
    "test_rf_model.fit(X_train[twenty_five_most_important_features],y_train)\n",
    "model_results(test_rf_model,X_train[twenty_five_most_important_features],y_train)"
   ]
  },
  {
   "cell_type": "markdown",
   "metadata": {},
   "source": [
    "Our results don't change much, and we get a little bit less accurate. Thus, we will keep all the features as long as they don't affect the complexity of the problem."
   ]
  },
  {
   "cell_type": "markdown",
   "metadata": {},
   "source": [
    "# Testing the model"
   ]
  },
  {
   "cell_type": "markdown",
   "metadata": {},
   "source": [
    "Let's see how our current model performs on the test data."
   ]
  },
  {
   "cell_type": "code",
   "execution_count": 9,
   "metadata": {},
   "outputs": [
    {
     "data": {
      "text/plain": [
       "RandomForestClassifier(bootstrap=True, class_weight='balanced',\n",
       "            criterion='gini', max_depth=3, max_features='log2',\n",
       "            max_leaf_nodes=None, min_impurity_decrease=0.0,\n",
       "            min_impurity_split=None, min_samples_leaf=1,\n",
       "            min_samples_split=2, min_weight_fraction_leaf=0.0,\n",
       "            n_estimators=50, n_jobs=1, oob_score=False, random_state=None,\n",
       "            verbose=0, warm_start=False)"
      ]
     },
     "execution_count": 9,
     "metadata": {},
     "output_type": "execute_result"
    }
   ],
   "source": [
    "test_rf_model.fit(X_train,y_train)"
   ]
  },
  {
   "cell_type": "code",
   "execution_count": 10,
   "metadata": {},
   "outputs": [
    {
     "name": "stdout",
     "output_type": "stream",
     "text": [
      "Results\n",
      "\n",
      "\n",
      "Accuracy Score: 0.648804616653\n",
      "Classification Report: \n",
      "              precision    recall  f1-score   support\n",
      "\n",
      "          0       0.92      0.66      0.77      3255\n",
      "          1       0.16      0.53      0.24       384\n",
      "\n",
      "avg / total       0.84      0.65      0.72      3639\n",
      "\n",
      "Confusion Matrix: \n",
      " [[2159 1096]\n",
      " [ 182  202]]\n",
      "AUC Score: 0.640178971454\n"
     ]
    },
    {
     "data": {
      "image/png": "[encoded data removed]",
      "text/plain": [
       "<Figure size 432x288 with 1 Axes>"
      ]
     },
     "metadata": {},
     "output_type": "display_data"
    }
   ],
   "source": [
    "model_results(test_rf_model,X_test,y_test)"
   ]
  },
  {
   "cell_type": "markdown",
   "metadata": {},
   "source": [
    "As we can see from the results, our model performed about the same on the testing data. We may not have an overfit model, but we still don't necessarily have a particularly accurate one."
   ]
  },
  {
   "cell_type": "code",
   "execution_count": null,
   "metadata": {},
   "outputs": [],
   "source": []
  }
 ],
 "metadata": {
  "kernelspec": {
   "display_name": "Python 2",
   "language": "python",
   "name": "python2"
  },
  "language_info": {
   "codemirror_mode": {
    "name": "ipython",
    "version": 2
   },
   "file_extension": ".py",
   "mimetype": "text/x-python",
   "name": "python",
   "nbconvert_exporter": "python",
   "pygments_lexer": "ipython2",
   "version": "2.7.15"
  }
 },
 "nbformat": 4,
 "nbformat_minor": 2
}
