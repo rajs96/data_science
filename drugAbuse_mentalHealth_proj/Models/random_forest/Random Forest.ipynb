{
 "cells": [
  {
   "cell_type": "markdown",
   "metadata": {},
   "source": [
    "# Random Forest Model"
   ]
  },
  {
   "cell_type": "code",
   "execution_count": 1,
   "metadata": {},
   "outputs": [],
   "source": [
    "# importing some needed modules\n",
    "import numpy as np\n",
    "import matplotlib.pyplot as plt\n",
    "import pandas as pd"
   ]
  },
  {
   "cell_type": "code",
   "execution_count": 2,
   "metadata": {},
   "outputs": [],
   "source": [
    "# importing the data\n",
    "filename = 'drugAbuse_data_cleaned_model_ready.csv'\n",
    "df = pd.read_csv(filename)"
   ]
  },
  {
   "cell_type": "code",
   "execution_count": 3,
   "metadata": {},
   "outputs": [],
   "source": [
    "df.drop(columns=['Unnamed: 0'],inplace=True)"
   ]
  },
  {
   "cell_type": "markdown",
   "metadata": {},
   "source": [
    "Now, we will implement our random forest model. We will use GridSearchCV to determine what the best number of trees is. Moreover, we will use 'stumps' as our decision trees. That is, we will use trees with a max_depth of 1. We have no reason to use a scaler with decision trees, so there is no need for a pipeline."
   ]
  },
  {
   "cell_type": "code",
   "execution_count": 4,
   "metadata": {},
   "outputs": [
    {
     "name": "stdout",
     "output_type": "stream",
     "text": [
      "Tuned Random Forest Parameters: {'n_estimators': 500, 'max_depth': 5}\n",
      "Best score on training set is 1.0\n",
      "Results on the test set:\n",
      "\n",
      "\n",
      "Accuracy Score: 1.0\n",
      "Classification Report: \n",
      "              precision    recall  f1-score   support\n",
      "\n",
      "          0       1.00      1.00      1.00      5210\n",
      "          1       1.00      1.00      1.00       612\n",
      "\n",
      "avg / total       1.00      1.00      1.00      5822\n",
      "\n",
      "Confusion Matrix: \n",
      " [[5210    0]\n",
      " [   0  612]]\n",
      "AUC Score: 1.0\n"
     ]
    },
    {
     "data": {
      "image/png": "[encoded data removed]",
      "text/plain": [
       "<Figure size 432x288 with 1 Axes>"
      ]
     },
     "metadata": {},
     "output_type": "display_data"
    }
   ],
   "source": [
    "from sklearn.ensemble import RandomForestClassifier\n",
    "from sklearn.model_selection import RandomizedSearchCV\n",
    "from sklearn.model_selection import train_test_split\n",
    "from sklearn.metrics import accuracy_score\n",
    "from sklearn.metrics import classification_report\n",
    "from sklearn.metrics import confusion_matrix\n",
    "from sklearn.metrics import roc_auc_score\n",
    "from sklearn.metrics import roc_curve\n",
    "\n",
    "# create our X and y\n",
    "X = df.drop(columns=['Severe Psychological Distress Past Month']).values\n",
    "y = df['Severe Psychological Distress Past Month'].values\n",
    "\n",
    "# we are using RandomizedSearchCV to see what the best number of trees for our model\n",
    "# because it would take a too much computational time to use GridSearch\n",
    "n_trees = [10,20,50,100,500,1000]\n",
    "possible_max_depths = [1,2,3,4,5]\n",
    "param_grid = {'n_estimators':n_trees,\n",
    "             'max_depth':possible_max_depths}\n",
    "\n",
    "# instantiate the classifier\n",
    "random_forest = RandomForestClassifier()\n",
    "\n",
    "# instantiate the GridSearchCV object\n",
    "cv = RandomizedSearchCV(random_forest,param_grid,cv=5,scoring='recall')\n",
    "# we are more interested in seeing how correctly\n",
    "# the classifier predicts severe psychological distress correctly\n",
    "\n",
    "# Create train and test sets\n",
    "X_train, X_test, y_train, y_test = train_test_split(X, y, test_size=0.4, random_state=38)\n",
    "\n",
    "# fit the model\n",
    "cv.fit(X_train, y_train)\n",
    "\n",
    "# Print the tuned parameters and score\n",
    "print(\"Tuned Random Forest Parameters: {}\".format(cv.best_params_)) \n",
    "print(\"Best score on training set is {}\".format(cv.best_score_))\n",
    "\n",
    "# predict the data\n",
    "y_pred = cv.predict(X_test)\n",
    "\n",
    "print(\"Results on the test set:\")\n",
    "print(\"\\n\")\n",
    "# accuracy on the test set\n",
    "print(\"Accuracy Score: {}\".format(accuracy_score(y_pred,y_test)))\n",
    "\n",
    "# classification report on the test set\n",
    "print(\"Classification Report: \\n {}\".format(classification_report(y_test,y_pred)))\n",
    "\n",
    "# confusion matrix on the test set\n",
    "print(\"Confusion Matrix: \\n {}\".format(confusion_matrix(y_test,y_pred)))\n",
    "\n",
    "# AUC score on the test set\n",
    "print(\"AUC Score: {}\".format(roc_auc_score(y_test,cv.predict_proba(X_test)[:,1])))\n",
    "\n",
    "# Generate ROC curve values: fpr, tpr, thresholds\n",
    "fpr, tpr, thresholds = roc_curve(y_test, cv.predict_proba(X_test)[:,1])\n",
    "\n",
    "# Plot ROC curve\n",
    "plt.plot([0, 1], [0, 1], 'k--')\n",
    "plt.plot(fpr, tpr)\n",
    "plt.xlabel('False Positive Rate')\n",
    "plt.ylabel('True Positive Rate')\n",
    "plt.title('ROC Curve')\n",
    "plt.show()"
   ]
  },
  {
   "cell_type": "code",
   "execution_count": null,
   "metadata": {},
   "outputs": [],
   "source": []
  }
 ],
 "metadata": {
  "kernelspec": {
   "display_name": "Python 2",
   "language": "python",
   "name": "python2"
  },
  "language_info": {
   "codemirror_mode": {
    "name": "ipython",
    "version": 2
   },
   "file_extension": ".py",
   "mimetype": "text/x-python",
   "name": "python",
   "nbconvert_exporter": "python",
   "pygments_lexer": "ipython2",
   "version": "2.7.15"
  }
 },
 "nbformat": 4,
 "nbformat_minor": 2
}
