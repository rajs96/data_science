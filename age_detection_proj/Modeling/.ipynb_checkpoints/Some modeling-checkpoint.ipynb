{
 "cells": [
  {
   "cell_type": "markdown",
   "metadata": {},
   "source": [
    "We will create a deep neural network with Keras."
   ]
  },
  {
   "cell_type": "code",
   "execution_count": 1,
   "metadata": {},
   "outputs": [
    {
     "name": "stderr",
     "output_type": "stream",
     "text": [
      "/Users/rajsingh/anaconda2/lib/python2.7/site-packages/h5py/__init__.py:36: FutureWarning: Conversion of the second argument of issubdtype from `float` to `np.floating` is deprecated. In future, it will be treated as `np.float64 == np.dtype(float).type`.\n",
      "  from ._conv import register_converters as _register_converters\n",
      "Using TensorFlow backend.\n"
     ]
    }
   ],
   "source": [
    "# import some modules we may need\n",
    "\n",
    "import numpy as np\n",
    "import pandas as pd\n",
    "import matplotlib.pyplot as plt\n",
    "# try out PCA as well as some feature selection. or try both!\n",
    "from sklearn.decomposition import PCA\n",
    "from sklearn.preprocessing import StandardScaler\n",
    "from keras.models import Sequential\n",
    "from keras.layers import Dense, Activation"
   ]
  },
  {
   "cell_type": "code",
   "execution_count": 2,
   "metadata": {},
   "outputs": [],
   "source": [
    "# read in the csv file and put it in a DataFrame.\n",
    "df_train = pd.read_csv('audio_training_data_cleaned.csv')"
   ]
  },
  {
   "cell_type": "code",
   "execution_count": 3,
   "metadata": {},
   "outputs": [],
   "source": [
    "# drop any null values we may have forgotten\n",
    "df_train = df_train.dropna(how='any',axis=0)"
   ]
  },
  {
   "cell_type": "code",
   "execution_count": 8,
   "metadata": {},
   "outputs": [],
   "source": [
    "# split into X_train and y_train\n",
    "X_train = df_train.drop(columns=['filename','age','Unnamed: 0']).values\n",
    "y_train = df_train['age']\n",
    "\n",
    "# to do feature selection, must convert categorical values to\n",
    "# numerical values\n",
    "replaced = {'teens':1,'twenties':2,'thirties':3,'fourties':4,'fifties':5,'sixties':6,\n",
    "            'seventies':7,'eighties':8}\n",
    "y_train_encoded = y_train.replace(replaced)"
   ]
  },
  {
   "cell_type": "code",
   "execution_count": 9,
   "metadata": {},
   "outputs": [
    {
     "name": "stdout",
     "output_type": "stream",
     "text": [
      "(73765, 81)\n"
     ]
    }
   ],
   "source": [
    "# use LASSO technique to do some feature selection because there are 170 features\n",
    "from sklearn.svm import LinearSVC\n",
    "from sklearn.feature_selection import SelectFromModel\n",
    "\n",
    "lsvc = LinearSVC(C=0.01, penalty=\"l1\", dual=False).fit(X_train, y_train_encoded)\n",
    "model = SelectFromModel(lsvc, prefit=True)\n",
    "X_new = model.transform(X_train)\n",
    "print(X_new.shape) # our new shape has decreased to 81 features"
   ]
  },
  {
   "cell_type": "code",
   "execution_count": 27,
   "metadata": {},
   "outputs": [
    {
     "name": "stdout",
     "output_type": "stream",
     "text": [
      "Epoch 1/50\n",
      "73765/73765 [==============================] - 2s 33us/step - loss: 1.7162 - acc: 0.3187\n",
      "Epoch 2/50\n",
      "73765/73765 [==============================] - 2s 28us/step - loss: 1.6092 - acc: 0.3661\n",
      "Epoch 3/50\n",
      "73765/73765 [==============================] - 2s 28us/step - loss: 1.5581 - acc: 0.3869\n",
      "Epoch 4/50\n",
      "73765/73765 [==============================] - 2s 29us/step - loss: 1.5008 - acc: 0.4124\n",
      "Epoch 5/50\n",
      "73765/73765 [==============================] - 2s 30us/step - loss: 1.4471 - acc: 0.4353\n",
      "Epoch 6/50\n",
      "73765/73765 [==============================] - 2s 31us/step - loss: 1.3882 - acc: 0.4626\n",
      "Epoch 7/50\n",
      "73765/73765 [==============================] - 2s 30us/step - loss: 1.3305 - acc: 0.4879\n",
      "Epoch 8/50\n",
      "73765/73765 [==============================] - 2s 29us/step - loss: 1.2757 - acc: 0.5157\n",
      "Epoch 9/50\n",
      "73765/73765 [==============================] - 2s 30us/step - loss: 1.2248 - acc: 0.5365\n",
      "Epoch 10/50\n",
      "73765/73765 [==============================] - 2s 30us/step - loss: 1.1787 - acc: 0.5568\n",
      "Epoch 11/50\n",
      "73765/73765 [==============================] - 2s 31us/step - loss: 1.1372 - acc: 0.5740\n",
      "Epoch 12/50\n",
      "73765/73765 [==============================] - 2s 30us/step - loss: 1.1052 - acc: 0.5885: 0s - loss: 1.1047 - acc: \n",
      "Epoch 13/50\n",
      "73765/73765 [==============================] - 2s 32us/step - loss: 1.0709 - acc: 0.6047\n",
      "Epoch 14/50\n",
      "73765/73765 [==============================] - 2s 31us/step - loss: 1.0419 - acc: 0.6166\n",
      "Epoch 15/50\n",
      "73765/73765 [==============================] - 2s 31us/step - loss: 1.0184 - acc: 0.6237\n",
      "Epoch 16/50\n",
      "73765/73765 [==============================] - 2s 31us/step - loss: 0.9894 - acc: 0.6364\n",
      "Epoch 17/50\n",
      "73765/73765 [==============================] - 2s 31us/step - loss: 0.9699 - acc: 0.6451\n",
      "Epoch 18/50\n",
      "73765/73765 [==============================] - 2s 31us/step - loss: 0.9466 - acc: 0.6551\n",
      "Epoch 19/50\n",
      "73765/73765 [==============================] - 2s 32us/step - loss: 0.9276 - acc: 0.6592\n",
      "Epoch 20/50\n",
      "73765/73765 [==============================] - 2s 32us/step - loss: 0.9113 - acc: 0.6672\n",
      "Epoch 21/50\n",
      "73765/73765 [==============================] - 2s 32us/step - loss: 0.8976 - acc: 0.6713: 0s - loss: 0.8994\n",
      "Epoch 22/50\n",
      "73765/73765 [==============================] - 2s 32us/step - loss: 0.8830 - acc: 0.6787\n",
      "Epoch 23/50\n",
      "73765/73765 [==============================] - 2s 33us/step - loss: 0.8640 - acc: 0.6848\n",
      "Epoch 24/50\n",
      "73765/73765 [==============================] - 2s 33us/step - loss: 0.8504 - acc: 0.6910\n",
      "Epoch 25/50\n",
      "73765/73765 [==============================] - 3s 34us/step - loss: 0.8407 - acc: 0.6941\n",
      "Epoch 26/50\n",
      "73765/73765 [==============================] - 2s 34us/step - loss: 0.8288 - acc: 0.6990\n",
      "Epoch 27/50\n",
      "73765/73765 [==============================] - 2s 33us/step - loss: 0.8141 - acc: 0.7055\n",
      "Epoch 28/50\n",
      "73765/73765 [==============================] - 2s 33us/step - loss: 0.8073 - acc: 0.7065\n",
      "Epoch 29/50\n",
      "73765/73765 [==============================] - 2s 33us/step - loss: 0.7902 - acc: 0.7143\n",
      "Epoch 30/50\n",
      "73765/73765 [==============================] - 2s 32us/step - loss: 0.7833 - acc: 0.7170\n",
      "Epoch 31/50\n",
      "73765/73765 [==============================] - 2s 33us/step - loss: 0.7782 - acc: 0.7175\n",
      "Epoch 32/50\n",
      "73765/73765 [==============================] - 3s 38us/step - loss: 0.7632 - acc: 0.7253\n",
      "Epoch 33/50\n",
      "73765/73765 [==============================] - 3s 47us/step - loss: 0.7498 - acc: 0.7301\n",
      "Epoch 34/50\n",
      "73765/73765 [==============================] - 3s 38us/step - loss: 0.7472 - acc: 0.7298\n",
      "Epoch 35/50\n",
      "73765/73765 [==============================] - 3s 44us/step - loss: 0.7383 - acc: 0.7342\n",
      "Epoch 36/50\n",
      "73765/73765 [==============================] - 2s 29us/step - loss: 0.7289 - acc: 0.7377\n",
      "Epoch 37/50\n",
      "73765/73765 [==============================] - 2s 28us/step - loss: 0.7229 - acc: 0.7406\n",
      "Epoch 38/50\n",
      "73765/73765 [==============================] - 2s 26us/step - loss: 0.7158 - acc: 0.7447\n",
      "Epoch 39/50\n",
      "73765/73765 [==============================] - 2s 25us/step - loss: 0.7099 - acc: 0.7452\n",
      "Epoch 40/50\n",
      "73765/73765 [==============================] - 2s 28us/step - loss: 0.6992 - acc: 0.7475\n",
      "Epoch 41/50\n",
      "73765/73765 [==============================] - 2s 27us/step - loss: 0.6924 - acc: 0.7501\n",
      "Epoch 42/50\n",
      "73765/73765 [==============================] - 2s 26us/step - loss: 0.6888 - acc: 0.7513\n",
      "Epoch 43/50\n",
      "73765/73765 [==============================] - 3s 37us/step - loss: 0.6814 - acc: 0.7546\n",
      "Epoch 44/50\n",
      "73765/73765 [==============================] - 3s 34us/step - loss: 0.6780 - acc: 0.7567\n",
      "Epoch 45/50\n",
      "73765/73765 [==============================] - 3s 34us/step - loss: 0.6659 - acc: 0.7611\n",
      "Epoch 46/50\n",
      "73765/73765 [==============================] - 3s 37us/step - loss: 0.6647 - acc: 0.7615\n",
      "Epoch 47/50\n",
      "73765/73765 [==============================] - 3s 36us/step - loss: 0.6576 - acc: 0.7636\n",
      "Epoch 48/50\n",
      "73765/73765 [==============================] - 2s 34us/step - loss: 0.6497 - acc: 0.7659\n",
      "Epoch 49/50\n",
      "73765/73765 [==============================] - 2s 34us/step - loss: 0.6435 - acc: 0.7701\n",
      "Epoch 50/50\n",
      "73765/73765 [==============================] - 3s 34us/step - loss: 0.6394 - acc: 0.7703\n"
     ]
    },
    {
     "data": {
      "text/plain": [
       "<keras.callbacks.History at 0x1a2d6df650>"
      ]
     },
     "execution_count": 27,
     "metadata": {},
     "output_type": "execute_result"
    }
   ],
   "source": [
    "# try normal 3-layer perceptron\n",
    "from keras.utils import to_categorical\n",
    "y_train_keras_encoded = to_categorical(y_train_encoded)[:,1:] # adds unneeded extra column\n",
    "DL_model = Sequential()\n",
    "\n",
    "DL_model.add(Dense(200, activation='relu', input_shape = (X_new.shape[1],)))\n",
    "\n",
    "DL_model.add(Dense(200, activation='relu'))\n",
    "\n",
    "DL_model.add(Dense(8, activation='softmax'))\n",
    "\n",
    "DL_model.compile(optimizer='adam',loss='categorical_crossentropy',\n",
    "             metrics=['accuracy'])\n",
    "DL_model.fit(X_new,y_train_keras_encoded,epochs=50,batch_size=100)"
   ]
  },
  {
   "cell_type": "code",
   "execution_count": null,
   "metadata": {},
   "outputs": [],
   "source": []
  }
 ],
 "metadata": {
  "kernelspec": {
   "display_name": "Python 2",
   "language": "python",
   "name": "python2"
  },
  "language_info": {
   "codemirror_mode": {
    "name": "ipython",
    "version": 2
   },
   "file_extension": ".py",
   "mimetype": "text/x-python",
   "name": "python",
   "nbconvert_exporter": "python",
   "pygments_lexer": "ipython2",
   "version": "2.7.15"
  }
 },
 "nbformat": 4,
 "nbformat_minor": 2
}
