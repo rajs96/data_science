{
 "cells": [
  {
   "cell_type": "markdown",
   "metadata": {},
   "source": [
    "Here, we will be compressing the pickle file we are using for our CNN because the file is too large."
   ]
  },
  {
   "cell_type": "code",
   "execution_count": 1,
   "metadata": {},
   "outputs": [],
   "source": [
    "import bz2\n",
    "import pickle\n",
    "\n",
    "# comments are just testing stuff\n",
    "# test_arr = [1,2,3,4,5,6,7,8,9]\n",
    "\n",
    "# f_write = bz2.BZ2File('test.bz2', 'wb')\n",
    "\n",
    "# pickle.dump(test_arr,f_write)\n",
    "\n",
    "# f_write.close()\n",
    "\n",
    "# f_read = bz2.BZ2File('test.bz2', 'rb')\n",
    "\n",
    "# test_arr2 = pickle.load(f_read)\n",
    "\n",
    "# f_read.close()\n",
    "\n",
    "# print(test_arr2)\n",
    "\n",
    "with open('training_data_not_reshaped.pickle','rb') as f:\n",
    "    data_label_arr_not_reshaped = pickle.load(f)\n",
    "    \n",
    "f_write = bz2.BZ2File('training_data_not_reshaped_small.bz2','wb')\n",
    "\n",
    "pickle.dump(data_label_arr_not_reshaped,f_write)\n",
    "\n",
    "f_write.close()\n"
   ]
  }
 ],
 "metadata": {
  "kernelspec": {
   "display_name": "Python 2",
   "language": "python",
   "name": "python2"
  },
  "language_info": {
   "codemirror_mode": {
    "name": "ipython",
    "version": 2
   },
   "file_extension": ".py",
   "mimetype": "text/x-python",
   "name": "python",
   "nbconvert_exporter": "python",
   "pygments_lexer": "ipython2",
   "version": "2.7.15"
  }
 },
 "nbformat": 4,
 "nbformat_minor": 2
}
