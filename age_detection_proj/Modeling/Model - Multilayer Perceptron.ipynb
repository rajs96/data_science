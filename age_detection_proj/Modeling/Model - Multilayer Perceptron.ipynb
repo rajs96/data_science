{
 "cells": [
  {
   "cell_type": "markdown",
   "metadata": {},
   "source": [
    "We will create a deep neural network with Keras."
   ]
  },
  {
   "cell_type": "code",
   "execution_count": 1,
   "metadata": {},
   "outputs": [
    {
     "name": "stderr",
     "output_type": "stream",
     "text": [
      "/Users/rajsingh/anaconda2/lib/python2.7/site-packages/h5py/__init__.py:36: FutureWarning: Conversion of the second argument of issubdtype from `float` to `np.floating` is deprecated. In future, it will be treated as `np.float64 == np.dtype(float).type`.\n",
      "  from ._conv import register_converters as _register_converters\n",
      "Using TensorFlow backend.\n"
     ]
    }
   ],
   "source": [
    "# import some modules we may need\n",
    "import numpy as np\n",
    "import pandas as pd\n",
    "import matplotlib.pyplot as plt\n",
    "# try out PCA as well as some feature selection. or try both!\n",
    "from sklearn.decomposition import PCA\n",
    "from sklearn.preprocessing import StandardScaler\n",
    "from keras.models import Sequential\n",
    "from keras.layers import Dense, Activation"
   ]
  },
  {
   "cell_type": "code",
   "execution_count": 2,
   "metadata": {},
   "outputs": [],
   "source": [
    "# read in the csv file and put it in a DataFrame.\n",
    "df_train = pd.read_csv('audio_training_data_cleaned.csv')"
   ]
  },
  {
   "cell_type": "code",
   "execution_count": 3,
   "metadata": {},
   "outputs": [],
   "source": [
    "# drop any null values we may have forgotten\n",
    "df_train = df_train.dropna(how='any',axis=0)"
   ]
  },
  {
   "cell_type": "code",
   "execution_count": 4,
   "metadata": {},
   "outputs": [],
   "source": [
    "# split into X_train and y_train\n",
    "X_train = df_train.drop(columns=['filename','age','Unnamed: 0']).values\n",
    "y_train = df_train['age']\n",
    "\n",
    "# to do feature selection, must convert categorical values to\n",
    "# numerical values\n",
    "replaced = {'teens':1,'twenties':2,'thirties':3,'fourties':4,'fifties':5,'sixties':6,\n",
    "            'seventies':7,'eighties':8}\n",
    "y_train_encoded = y_train.replace(replaced)"
   ]
  },
  {
   "cell_type": "code",
   "execution_count": 5,
   "metadata": {},
   "outputs": [
    {
     "name": "stdout",
     "output_type": "stream",
     "text": [
      "CPU times: user 1min 42s, sys: 1.44 s, total: 1min 43s\n",
      "Wall time: 1min 45s\n"
     ]
    }
   ],
   "source": [
    "%%time\n",
    "# use LASSO technique to do some feature selection because there are 170 features\n",
    "from sklearn.svm import LinearSVC\n",
    "from sklearn.feature_selection import SelectFromModel\n",
    "\n",
    "lsvc = LinearSVC(C=0.01, penalty=\"l1\", dual=False).fit(X_train, y_train_encoded)\n",
    "model = SelectFromModel(lsvc, prefit=True)\n",
    "X_train = model.transform(X_train)"
   ]
  },
  {
   "cell_type": "code",
   "execution_count": 6,
   "metadata": {},
   "outputs": [
    {
     "name": "stdout",
     "output_type": "stream",
     "text": [
      "Epoch 1/50\n",
      "73765/73765 [==============================] - 26s 346us/step - loss: 1.7778 - acc: 0.30621s - loss:\n",
      "Epoch 2/50\n",
      "73765/73765 [==============================] - 28s 383us/step - loss: 1.6918 - acc: 0.31981s - loss: 1.\n",
      "Epoch 3/50\n",
      "73765/73765 [==============================] - 26s 349us/step - loss: 1.6609 - acc: 0.3353\n",
      "Epoch 4/50\n",
      "73765/73765 [==============================] - 26s 348us/step - loss: 1.6254 - acc: 0.3527\n",
      "Epoch 5/50\n",
      "73765/73765 [==============================] - 25s 338us/step - loss: 1.5923 - acc: 0.3660\n",
      "Epoch 6/50\n",
      "73765/73765 [==============================] - 25s 338us/step - loss: 1.5540 - acc: 0.3827\n",
      "Epoch 7/50\n",
      "73765/73765 [==============================] - 35s 471us/step - loss: 1.5148 - acc: 0.4016\n",
      "Epoch 8/50\n",
      "73765/73765 [==============================] - 25s 344us/step - loss: 1.4702 - acc: 0.4227\n",
      "Epoch 9/50\n",
      "73765/73765 [==============================] - 28s 378us/step - loss: 1.4189 - acc: 0.4449\n",
      "Epoch 10/50\n",
      "73765/73765 [==============================] - 26s 351us/step - loss: 1.3718 - acc: 0.46801s - loss: 1\n",
      "Epoch 11/50\n",
      "73765/73765 [==============================] - 28s 381us/step - loss: 1.3216 - acc: 0.4896\n",
      "Epoch 12/50\n",
      "73765/73765 [==============================] - 28s 377us/step - loss: 1.2739 - acc: 0.5090\n",
      "Epoch 13/50\n",
      "73765/73765 [==============================] - 28s 385us/step - loss: 1.2345 - acc: 0.5283\n",
      "Epoch 14/50\n",
      "73765/73765 [==============================] - 35s 478us/step - loss: 1.2015 - acc: 0.5386\n",
      "Epoch 15/50\n",
      "73765/73765 [==============================] - 29s 391us/step - loss: 1.1669 - acc: 0.5572\n",
      "Epoch 16/50\n",
      "73765/73765 [==============================] - 31s 422us/step - loss: 1.1351 - acc: 0.5693\n",
      "Epoch 17/50\n",
      "73765/73765 [==============================] - 37s 497us/step - loss: 1.0994 - acc: 0.5836\n",
      "Epoch 18/50\n",
      "73765/73765 [==============================] - 41s 552us/step - loss: 1.0763 - acc: 0.5939\n",
      "Epoch 19/50\n",
      "73765/73765 [==============================] - 42s 568us/step - loss: 1.0544 - acc: 0.6032\n",
      "Epoch 20/50\n",
      "73765/73765 [==============================] - 31s 425us/step - loss: 1.0324 - acc: 0.6103\n",
      "Epoch 21/50\n",
      "73765/73765 [==============================] - 28s 384us/step - loss: 1.0051 - acc: 0.6227\n",
      "Epoch 22/50\n",
      "73765/73765 [==============================] - 30s 403us/step - loss: 0.9872 - acc: 0.6296\n",
      "Epoch 23/50\n",
      "73765/73765 [==============================] - 27s 369us/step - loss: 0.9725 - acc: 0.6376\n",
      "Epoch 24/50\n",
      "73765/73765 [==============================] - 26s 349us/step - loss: 0.9543 - acc: 0.6434\n",
      "Epoch 25/50\n",
      "73765/73765 [==============================] - 27s 362us/step - loss: 0.9336 - acc: 0.6526\n",
      "Epoch 26/50\n",
      "73765/73765 [==============================] - 28s 383us/step - loss: 0.9181 - acc: 0.6581\n",
      "Epoch 27/50\n",
      "73765/73765 [==============================] - 25s 343us/step - loss: 0.9039 - acc: 0.6640\n",
      "Epoch 28/50\n",
      "73765/73765 [==============================] - 26s 346us/step - loss: 0.8925 - acc: 0.6692\n",
      "Epoch 29/50\n",
      "73765/73765 [==============================] - 26s 347us/step - loss: 0.8809 - acc: 0.6749\n",
      "Epoch 30/50\n",
      "73765/73765 [==============================] - 29s 393us/step - loss: 0.8641 - acc: 0.6815\n",
      "Epoch 31/50\n",
      "73765/73765 [==============================] - 27s 360us/step - loss: 0.8501 - acc: 0.6861\n",
      "Epoch 32/50\n",
      "73765/73765 [==============================] - 25s 341us/step - loss: 0.8459 - acc: 0.6883\n",
      "Epoch 33/50\n",
      "73765/73765 [==============================] - 25s 334us/step - loss: 0.8341 - acc: 0.6928\n",
      "Epoch 34/50\n",
      "73765/73765 [==============================] - 24s 329us/step - loss: 0.8225 - acc: 0.6959\n",
      "Epoch 35/50\n",
      "73765/73765 [==============================] - 24s 332us/step - loss: 0.8105 - acc: 0.7019\n",
      "Epoch 36/50\n",
      "73765/73765 [==============================] - 27s 369us/step - loss: 0.8018 - acc: 0.7053\n",
      "Epoch 37/50\n",
      "73765/73765 [==============================] - 25s 342us/step - loss: 0.7954 - acc: 0.7065\n",
      "Epoch 38/50\n",
      "73765/73765 [==============================] - 25s 345us/step - loss: 0.7825 - acc: 0.71221s - lo\n",
      "Epoch 39/50\n",
      "73765/73765 [==============================] - 28s 384us/step - loss: 0.7761 - acc: 0.7156\n",
      "Epoch 40/50\n",
      "73765/73765 [==============================] - 28s 379us/step - loss: 0.7664 - acc: 0.7208\n",
      "Epoch 41/50\n",
      "73765/73765 [==============================] - 30s 401us/step - loss: 0.7624 - acc: 0.7204\n",
      "Epoch 42/50\n",
      "73765/73765 [==============================] - 29s 398us/step - loss: 0.7591 - acc: 0.7205\n",
      "Epoch 43/50\n",
      "73765/73765 [==============================] - 29s 392us/step - loss: 0.7409 - acc: 0.7274\n",
      "Epoch 44/50\n",
      "73765/73765 [==============================] - 30s 410us/step - loss: 0.7380 - acc: 0.7288\n",
      "Epoch 45/50\n",
      "73765/73765 [==============================] - 28s 385us/step - loss: 0.7339 - acc: 0.7313\n",
      "Epoch 46/50\n",
      "73765/73765 [==============================] - 27s 364us/step - loss: 0.7325 - acc: 0.7325\n",
      "Epoch 47/50\n",
      "73765/73765 [==============================] - 29s 399us/step - loss: 0.7212 - acc: 0.7365\n",
      "Epoch 48/50\n",
      "73765/73765 [==============================] - 26s 346us/step - loss: 0.7152 - acc: 0.7382\n",
      "Epoch 49/50\n",
      "73765/73765 [==============================] - 25s 341us/step - loss: 0.7029 - acc: 0.7435\n",
      "Epoch 50/50\n",
      "73765/73765 [==============================] - 24s 329us/step - loss: 0.7061 - acc: 0.7413\n",
      "CPU times: user 1h 1min 39s, sys: 7min 29s, total: 1h 9min 8s\n",
      "Wall time: 23min 28s\n"
     ]
    }
   ],
   "source": [
    "%%time\n",
    "# try normal 3-layer perceptron\n",
    "from keras.utils import to_categorical\n",
    "from keras.layers import Dropout\n",
    "y_train_keras_encoded = to_categorical(y_train_encoded)[:,1:] # adds unneeded extra column\n",
    "DL_model = Sequential()\n",
    "DL_model.add(Dropout(0.15))\n",
    "DL_model.add(Dense(256, activation='relu', input_shape = (X_train.shape[1],)))\n",
    "\n",
    "DL_model.add(Dense(1024, activation='relu'))\n",
    "\n",
    "DL_model.add(Dense(1024, activation='relu'))\n",
    "\n",
    "DL_model.add(Dense(256, activation='relu'))\n",
    "\n",
    "DL_model.add(Dense(8, activation='softmax'))\n",
    "\n",
    "DL_model.compile(optimizer='adam',loss='categorical_crossentropy',\n",
    "             metrics=['accuracy'])\n",
    "DL_model.fit(X_train,y_train_keras_encoded,epochs=50,batch_size=100)"
   ]
  },
  {
   "cell_type": "code",
   "execution_count": 7,
   "metadata": {},
   "outputs": [],
   "source": [
    "# now we need to test data against the testing set\n",
    "# import testing set\n",
    "testing_df = pd.read_csv('audio_testing_data_cleaned.csv')\n",
    "# drop any null values we may have forgotten\n",
    "testing_df = testing_df.dropna(how='any',axis=0)\n",
    "\n",
    "# import another testing set\n",
    "other_testing_df = pd.read_csv('audio_other_testing_data_cleaned.csv')\n",
    "# drop any null values we may have forgotten\n",
    "other_testing_df = other_testing_df.dropna(how='any',axis=0)"
   ]
  },
  {
   "cell_type": "code",
   "execution_count": 8,
   "metadata": {},
   "outputs": [],
   "source": [
    "X_test = testing_df.drop(columns=['filename','age','Unnamed: 0']).values\n",
    "X_test = model.transform(X_test)\n",
    "y_test = testing_df['age']\n",
    "y_test_encoded = y_test.replace(replaced)\n",
    "y_test_keras_encoded = to_categorical(y_test_encoded)[:,1:] # adds unneeded extra column\n",
    "\n",
    "X_other_test = other_testing_df.drop(columns=['filename','age','Unnamed: 0']).values\n",
    "\n",
    "X_other_test= model.transform(X_other_test)\n",
    "y_other_test = other_testing_df['age']\n",
    "y_other_test_encoded = y_other_test.replace(replaced)\n",
    "y_other_test_keras_encoded = to_categorical(y_other_test_encoded)[:,1:]"
   ]
  },
  {
   "cell_type": "code",
   "execution_count": 9,
   "metadata": {},
   "outputs": [
    {
     "name": "stdout",
     "output_type": "stream",
     "text": [
      "1542/1542 [==============================] - 0s 155us/step\n",
      "Results on primary testing set:\n",
      "Loss: 0.792143861994\n",
      "Accuracy: 0.708819714656\n",
      "CPU times: user 496 ms, sys: 39.6 ms, total: 536 ms\n",
      "Wall time: 244 ms\n"
     ]
    }
   ],
   "source": [
    "%%time\n",
    "score1 = DL_model.evaluate(X_test,y_test_keras_encoded,batch_size=32)\n",
    "print(\"Results on primary testing set:\")\n",
    "print(\"Loss: {}\".format(score1[0]))\n",
    "print(\"Accuracy: {}\".format(score1[1]))"
   ]
  },
  {
   "cell_type": "code",
   "execution_count": null,
   "metadata": {},
   "outputs": [],
   "source": []
  },
  {
   "cell_type": "code",
   "execution_count": null,
   "metadata": {},
   "outputs": [],
   "source": []
  }
 ],
 "metadata": {
  "kernelspec": {
   "display_name": "Python 2",
   "language": "python",
   "name": "python2"
  },
  "language_info": {
   "codemirror_mode": {
    "name": "ipython",
    "version": 2
   },
   "file_extension": ".py",
   "mimetype": "text/x-python",
   "name": "python",
   "nbconvert_exporter": "python",
   "pygments_lexer": "ipython2",
   "version": "2.7.15"
  }
 },
 "nbformat": 4,
 "nbformat_minor": 2
}
