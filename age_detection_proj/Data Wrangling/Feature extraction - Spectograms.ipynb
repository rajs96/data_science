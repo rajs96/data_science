{
 "cells": [
  {
   "cell_type": "code",
   "execution_count": 1,
   "metadata": {},
   "outputs": [],
   "source": [
    "import numpy as np\n",
    "import pandas as pd\n",
    "import librosa"
   ]
  },
  {
   "cell_type": "code",
   "execution_count": 2,
   "metadata": {},
   "outputs": [],
   "source": [
    "def windows(data,window_size):\n",
    "    start = 0\n",
    "    while start < len(data):\n",
    "        yield start, start + window_size\n",
    "        start+=(window_size/2)\n",
    "\n",
    "# function to extract spectrogram from a list of\n",
    "# mp3 files\n",
    "def extract_features_spectrogram(parent_dir,file_list,bands=128, frames=128):\n",
    "    log_specgrams = []\n",
    "    labels = []\n",
    "    window_size = 512*(frames-1)\n",
    "    for f in file_list:\n",
    "        path = parent_dir+'/'+f\n",
    "        sound_clip,s = librosa.load(path)\n",
    "        label = f\n",
    "        for (start,end) in windows(sound_clip,window_size):\n",
    "            if(len(sound_clip[start:end])==window_size):\n",
    "                signal = sound_clip[start:end]\n",
    "                melspec = librosa.feature.melspectrogram(signal,n_mels=bands)\n",
    "                logspec = librosa.amplitude_to_db(melspec)\n",
    "                logspec = logspec.T.flatten()[:,np.newaxis].T\n",
    "                log_specgrams.append(logspec)\n",
    "                labels.append(label)\n",
    "                print(\"Featurized {}.\".format(label))\n",
    "    features = np.asarray(np.array(log_specgrams)).reshape(len(log_specgrams),bands,frames)\n",
    "    return (np.array(features),labels)\n",
    "        \n",
    "\n",
    "df = pd.read_csv('audio_training_data_cleaned.csv')"
   ]
  },
  {
   "cell_type": "code",
   "execution_count": 3,
   "metadata": {},
   "outputs": [
    {
     "name": "stdout",
     "output_type": "stream",
     "text": [
      "CPU times: user 3 µs, sys: 1e+03 ns, total: 4 µs\n",
      "Wall time: 8.11 µs\n",
      "Featurized sample-000005.mp3.\n",
      "Featurized sample-000005.mp3.\n",
      "Featurized sample-000013.mp3.\n",
      "Featurized sample-000014.mp3.\n",
      "Featurized sample-000014.mp3.\n",
      "Featurized sample-000019.mp3.\n",
      "Featurized sample-000020.mp3.\n",
      "Featurized sample-000020.mp3.\n",
      "Featurized sample-000023.mp3.\n",
      "Featurized sample-000026.mp3.\n",
      "Featurized sample-000026.mp3.\n",
      "Featurized sample-000027.mp3.\n",
      "Featurized sample-000029.mp3.\n",
      "Featurized sample-000029.mp3.\n"
     ]
    }
   ],
   "source": [
    "%time\n",
    "df = df[['filename','age']]\n",
    "l = list(df['filename'])\n",
    "features, labels = extract_features_spectrogram('cv-valid-train',l[:10])"
   ]
  },
  {
   "cell_type": "code",
   "execution_count": null,
   "metadata": {},
   "outputs": [],
   "source": []
  },
  {
   "cell_type": "code",
   "execution_count": null,
   "metadata": {},
   "outputs": [],
   "source": []
  }
 ],
 "metadata": {
  "kernelspec": {
   "display_name": "Python 2",
   "language": "python",
   "name": "python2"
  },
  "language_info": {
   "codemirror_mode": {
    "name": "ipython",
    "version": 2
   },
   "file_extension": ".py",
   "mimetype": "text/x-python",
   "name": "python",
   "nbconvert_exporter": "python",
   "pygments_lexer": "ipython2",
   "version": "2.7.15"
  }
 },
 "nbformat": 4,
 "nbformat_minor": 2
}
